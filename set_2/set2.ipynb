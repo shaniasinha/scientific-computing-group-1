{
 "cells": [
  {
   "cell_type": "markdown",
   "metadata": {},
   "source": [
    "# Assignment Set 2\n",
    "\n",
    "*Authors*: Myriam Belkhatir, Salomé Poulain, Shania Sinha"
   ]
  },
  {
   "cell_type": "markdown",
   "metadata": {},
   "source": [
    "## Import Libraries"
   ]
  },
  {
   "cell_type": "code",
   "execution_count": null,
   "metadata": {},
   "outputs": [],
   "source": [
    "import numpy as np\n",
    "import matplotlib.pyplot as plt\n",
    "from importlib import reload\n",
    "from matplotlib.animation import FuncAnimation, PillowWriter\n",
    "from importlib import reload\n",
    "import glob\n",
    "import os\n",
    "import imageio\n",
    "\n",
    "%matplotlib inline"
   ]
  },
  {
   "cell_type": "markdown",
   "metadata": {},
   "source": [
    "## A. Growth Model DLA"
   ]
  },
  {
   "cell_type": "code",
   "execution_count": null,
   "metadata": {},
   "outputs": [],
   "source": [
    "import src.dla\n",
    "reload(src.dla)\n",
    "from src.dla import DLASimulation"
   ]
  },
  {
   "cell_type": "code",
   "execution_count": null,
   "metadata": {},
   "outputs": [],
   "source": [
    "# Set random seed for reproducibility\n",
    "np.random.seed(42)\n",
    "\n",
    "# Set grid size\n",
    "grid_size_100 = 100\n",
    "\n",
    "# Create and run standard DLA simulation (η=1.0)\n",
    "dla = DLASimulation(N=grid_size_100, eta=1.0)\n",
    "\n",
    "# Uncomment to run the simulation\n",
    "dla.run_simulation()"
   ]
  },
  {
   "cell_type": "markdown",
   "metadata": {},
   "source": [
    "Not implemented: Make a gif of the resulting plots."
   ]
  },
  {
   "cell_type": "code",
   "execution_count": null,
   "metadata": {},
   "outputs": [],
   "source": [
    "# # Create the output directory if it doesn't exist\n",
    "# os.makedirs(\"results\", exist_ok=True)\n",
    "\n",
    "# # Path to images\n",
    "# image_path = \"results/dla_output_eta1.0/*.png\"\n",
    "# image_files = sorted(glob.glob(image_path))\n",
    "\n",
    "# # Check if any images are found\n",
    "# if not image_files:\n",
    "#     print(f\"No image files found at {image_path}\")\n",
    "# else:\n",
    "#     # Read images\n",
    "#     images = [imageio.imread(file) for file in image_files]\n",
    "    \n",
    "#     # Create GIF\n",
    "#     output_file = \"results/dla_output_eta1.gif\"\n",
    "#     imageio.mimsave(output_file, images, duration=0.2)  # duration is in seconds per frame\n",
    "#     print(f\"GIF saved as {output_file}\")"
   ]
  },
  {
   "cell_type": "code",
   "execution_count": null,
   "metadata": {},
   "outputs": [],
   "source": [
    "def run_eta_study(eta_values=[0.5, 1.0, 2.0], N=100, num_particles=1000):\n",
    "    \"\"\"\n",
    "    Run multiple DLA simulations with different eta values.\n",
    "    \"\"\"\n",
    "    for eta in eta_values:\n",
    "        print(f\"Running simulation with η={eta}\")\n",
    "        output_dir = f\"results/dla_output_eta{eta:.1f}\"\n",
    "        \n",
    "        # Set random seed for reproducibility\n",
    "        np.random.seed(42)\n",
    "        \n",
    "        # Create and run DLA simulation\n",
    "        dla = DLASimulation(N=N, eta=eta, output_dir=output_dir)\n",
    "        dla.run_simulation()"
   ]
  },
  {
   "cell_type": "code",
   "execution_count": null,
   "metadata": {},
   "outputs": [],
   "source": [
    "# Investigate the influence of eta parameter\n",
    "testing_etas = [0.85, 1.5]\n",
    "run_eta_study(eta_values=testing_etas, N=grid_size_100)"
   ]
  },
  {
   "cell_type": "markdown",
   "metadata": {},
   "source": [
    "### A.1. Can we optimize further?\n",
    "Analyzing effect of $\\omega$ and grid size on the cluster formation."
   ]
  },
  {
   "cell_type": "code",
   "execution_count": null,
   "metadata": {},
   "outputs": [],
   "source": [
    "import src.analysis_dla\n",
    "reload(src.analysis_dla)\n",
    "from src.analysis_dla import *"
   ]
  },
  {
   "cell_type": "code",
   "execution_count": null,
   "metadata": {},
   "outputs": [],
   "source": [
    "# Part 1: Analyze omega performance for a fixed grid size\n",
    "omega_values, total_iterations, execution_times = analyze_omega_performance(N=grid_size_100, num_particles=1000)\n",
    "\n",
    "# Plot the results\n",
    "plot_results(omega_values, total_iterations, execution_times, grid_size_100)"
   ]
  },
  {
   "cell_type": "code",
   "execution_count": null,
   "metadata": {},
   "outputs": [],
   "source": [
    "# Part 2: Find optimal omega for different grid sizes\n",
    "grid_sizes = [10, 50, 150, 200]\n",
    "\n",
    "N_values, optimal_omegas, theoretical_omegas = find_optimal_omega_vs_gridsize()\n",
    "\n",
    "# Plot optimal omega vs grid size\n",
    "plot_optimal_omega_vs_N(N_values, optimal_omegas, theoretical_omegas)"
   ]
  },
  {
   "cell_type": "markdown",
   "metadata": {},
   "source": [
    "## B. and C. Monte-Carlo DLA Simulation"
   ]
  },
  {
   "cell_type": "code",
   "execution_count": null,
   "metadata": {},
   "outputs": [],
   "source": [
    "import src.monte_carlo_dla\n",
    "reload(src.monte_carlo_dla)\n",
    "from src.monte_carlo_dla import RandomWalker"
   ]
  },
  {
   "cell_type": "code",
   "execution_count": null,
   "metadata": {},
   "outputs": [],
   "source": [
    "# Run simulation\n",
    "stochastic_dla = RandomWalker(N=100, num_particles=1000)\n",
    "stochastic_dla.run_simulation()"
   ]
  },
  {
   "cell_type": "markdown",
   "metadata": {},
   "source": [
    "## D. Gray-Scott model"
   ]
  },
  {
   "cell_type": "code",
   "execution_count": null,
   "metadata": {},
   "outputs": [],
   "source": [
    "import src.gray_scott\n",
    "reload(src.gray_scott)\n",
    "from src.gray_scott import GrayScottModel"
   ]
  },
  {
   "cell_type": "code",
   "execution_count": null,
   "metadata": {},
   "outputs": [],
   "source": [
    "# Initialize the Gray-Scott model\n",
    "N = 200\n",
    "steps = 15000\n",
    "Du = 0.16\n",
    "Dv = 0.08"
   ]
  },
  {
   "cell_type": "markdown",
   "metadata": {},
   "source": [
    "### Explore broad range of f and k"
   ]
  },
  {
   "cell_type": "code",
   "execution_count": null,
   "metadata": {},
   "outputs": [],
   "source": [
    "# Define parameter ranges from low to high\n",
    "F_grid_extended = np.linspace(0.03, 0.14, 3) \n",
    "k_grid_extended = np.linspace(0.045, 0.065, 3)\n",
    "\n",
    "# Create meshgrid - switch order to get F on y-axis, k on x-axis\n",
    "k_mesh_ext, F_mesh_ext = np.meshgrid(k_grid_extended, F_grid_extended)\n",
    "F_points_ext = F_mesh_ext.flatten()\n",
    "k_points_ext = k_mesh_ext.flatten()\n",
    "\n",
    "# Create descriptions\n",
    "descriptions = [f\"F={f:.3f}, k={k:.3f}\" for f, k in zip(F_points_ext, k_points_ext)]\n",
    "\n",
    "# Create models for each parameter set\n",
    "models = []\n",
    "for f, k, desc in zip(F_points_ext, k_points_ext, descriptions):\n",
    "    model = GrayScottModel(N=N, Du=Du, Dv=Dv, f=f, k=k)\n",
    "    models.append(model)"
   ]
  },
  {
   "cell_type": "code",
   "execution_count": null,
   "metadata": {},
   "outputs": [],
   "source": [
    "# Run simulations\n",
    "for i, model in enumerate(models):\n",
    "    model.run(steps=steps, save_interval=50)"
   ]
  },
  {
   "cell_type": "code",
   "execution_count": null,
   "metadata": {},
   "outputs": [],
   "source": [
    "# Create a 3x3 plot of the final U field\n",
    "fig, axs = plt.subplots(3, 3, figsize=(10, 10), constrained_layout=True, sharex=True, sharey=True)\n",
    "\n",
    "for i, model in enumerate(models):\n",
    "    u_final, _ = model.simulation[-1] \n",
    "    row = 2 - (i // 3)  # Reverse row index for bottom-up ordering\n",
    "    col = i % 3        \n",
    "    ax = axs[row, col]  \n",
    "    im = ax.imshow(u_final, cmap=\"viridis\", vmin=0, vmax=1)\n",
    "    ax.set_title(f\"{descriptions[i]}\", fontsize=18)  \n",
    "    ax.axis(\"off\")\n",
    "\n",
    "# Add a shared colorbar with proper font size configuration\n",
    "cbar = fig.colorbar(im, ax=axs, orientation='vertical', fraction=0.046, pad=0.04)\n",
    "cbar.ax.tick_params(labelsize=18) \n",
    "\n",
    "plt.savefig(\"results/gray_scott/gray_scott_3x3_final_states.pgf\")\n",
    "plt.show()"
   ]
  },
  {
   "cell_type": "markdown",
   "metadata": {},
   "source": [
    "### Explore zoomed in region with different f and k values for distinct patterns"
   ]
  },
  {
   "cell_type": "code",
   "execution_count": null,
   "metadata": {},
   "outputs": [],
   "source": [
    "# Format: (Du, Dv, f, k, description)\n",
    "# Parameters from Har-Shemesh et al. (2015)\n",
    "parameter_sets = [\n",
    "    (0.0416, 0.0625),  \n",
    "    (0.0392, 0.0649),  \n",
    "    (0.0175, 0.0504),  \n",
    "    (0.0295, 0.0561)  \n",
    "]\n",
    "\n",
    "# Complete the parameter sets with Du, Dv, and descriptions\n",
    "descriptions = [\"Worm-like structures\", \"Maze-like patterns\", \"Transition zone\", \"Edge of pattern-forming region\"]\n",
    "complete_params = [(Du, Dv, f, k, desc) for (f, k), desc in zip(parameter_sets, descriptions)]\n",
    "\n",
    "# Create the models for each set of parameters\n",
    "models = []\n",
    "for Du, Dv, f, k, desc in complete_params:\n",
    "    model = GrayScottModel(N=N, Du=Du, Dv=Dv, f=f, k=k)\n",
    "    models.append(model)"
   ]
  },
  {
   "cell_type": "code",
   "execution_count": null,
   "metadata": {},
   "outputs": [],
   "source": [
    "# Run simulations\n",
    "for i, model in enumerate(models):\n",
    "    model.run(steps=steps, save_interval=50)"
   ]
  },
  {
   "cell_type": "code",
   "execution_count": null,
   "metadata": {},
   "outputs": [],
   "source": [
    "# Create a 2x2 plot of the final U field from the stored simulation snapshots\n",
    "fig, axs = plt.subplots(2, 2, figsize=(10, 10), constrained_layout=True)\n",
    "\n",
    "for i, model in enumerate(models):\n",
    "    # Get the final snapshot stored in the simulation attribute (u, v)\n",
    "    u_final, _ = model.simulation[-1]\n",
    "    ax = axs[i // 2, i % 2]\n",
    "    im = ax.imshow(u_final, cmap=\"viridis\", vmin=0, vmax=1)\n",
    "    \n",
    "    # Extract f and k values from parameter_sets for the title\n",
    "    f_val = parameter_sets[i][0]\n",
    "    k_val = parameter_sets[i][1]\n",
    "    ax.set_title(f\"F={f_val:.4f}, k={k_val:.4f}\", fontsize=18)\n",
    "    ax.axis(\"off\")\n",
    "\n",
    "# Add a single colorbar for the entire figure\n",
    "cbar = fig.colorbar(im, ax=axs, orientation='vertical', fraction=0.046, pad=0.04)\n",
    "cbar.ax.tick_params(labelsize=18)\n",
    "\n",
    "plt.savefig(\"results/gray_scott/gray_scott_2x2_final_states.pgf\")\n",
    "plt.show()"
   ]
  },
  {
   "cell_type": "code",
   "execution_count": null,
   "metadata": {},
   "outputs": [],
   "source": [
    "# Create and save GIF animations for each simulation\n",
    "for i, model in enumerate(models):\n",
    "    ani = model.create_animation(interval=50)\n",
    "    \n",
    "    # Use the complete_params list which contains descriptions\n",
    "    description = parameter_sets[i]\n",
    "    filename = f\"results/gray_scott/gif_{description}.gif\"\n",
    "    \n",
    "    print(f\"Saving animation as {filename} ...\")\n",
    "    ani.save(filename, writer=PillowWriter(fps=20))"
   ]
  },
  {
   "cell_type": "markdown",
   "metadata": {},
   "source": [
    "# References"
   ]
  },
  {
   "cell_type": "markdown",
   "metadata": {},
   "source": [
    "Har-Shemesh et al., 2015\n",
    "\"Information geometric analysis of phase transitions in complex patterns: the case of the Gray-Scott reaction-diffusion model\",\n",
    "J. Stat. Mech. Theory Exp., 2016(04), 043301.\n",
    "DOI: 10.1088/1742-5468/2016/04/043301"
   ]
  }
 ],
 "metadata": {
  "kernelspec": {
   "display_name": "Python 3",
   "language": "python",
   "name": "python3"
  },
  "language_info": {
   "codemirror_mode": {
    "name": "ipython",
    "version": 3
   },
   "file_extension": ".py",
   "mimetype": "text/x-python",
   "name": "python",
   "nbconvert_exporter": "python",
   "pygments_lexer": "ipython3",
   "version": "3.9.6"
  }
 },
 "nbformat": 4,
 "nbformat_minor": 2
}
