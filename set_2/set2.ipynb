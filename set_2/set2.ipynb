{
 "cells": [
  {
   "cell_type": "markdown",
   "metadata": {},
   "source": [
    "# Assignment Set 2\n",
    "\n",
    "*Authors*: Myriam Belkhatir, Salomé Poulain, Shania Sinha"
   ]
  },
  {
   "cell_type": "markdown",
   "metadata": {},
   "source": [
    "## Import Libraries"
   ]
  },
  {
   "cell_type": "code",
   "execution_count": null,
   "metadata": {},
   "outputs": [],
   "source": [
    "import numpy as np\n",
    "import matplotlib.pyplot as plt\n",
    "from importlib import reload\n",
    "from matplotlib.animation import FuncAnimation, PillowWriter\n",
    "\n",
    "\n",
    "%matplotlib inline"
   ]
  },
  {
   "cell_type": "code",
   "execution_count": null,
   "metadata": {},
   "outputs": [],
   "source": [
    "from src.deterministic_dla import DeterministicDLA"
   ]
  },
  {
   "cell_type": "code",
   "execution_count": null,
   "metadata": {},
   "outputs": [],
   "source": [
    "# Run the deterministic DLA simulation\n",
    "dla = DeterministicDLA(grid_size=100, eta=1.0, max_iterations=2000)\n",
    "dla.run_simulation()"
   ]
  },
  {
   "cell_type": "markdown",
   "metadata": {},
   "source": [
    "## Gray-Scott model"
   ]
  },
  {
   "cell_type": "code",
   "execution_count": null,
   "metadata": {},
   "outputs": [],
   "source": [
    "import numpy as np\n",
    "import matplotlib.pyplot as plt\n",
    "from importlib import reload\n",
    "from matplotlib.animation import FuncAnimation, PillowWriter\n",
    "\n",
    "from src.gray_scott import GrayScottModel"
   ]
  },
  {
   "cell_type": "code",
   "execution_count": null,
   "metadata": {},
   "outputs": [],
   "source": [
    "N = 200\n",
    "steps = 15000\n",
    "Du = 0.16\n",
    "Dv = 0.08"
   ]
  },
  {
   "cell_type": "markdown",
   "metadata": {},
   "source": [
    "### Explore broad range of f and k"
   ]
  },
  {
   "cell_type": "code",
   "execution_count": null,
   "metadata": {},
   "outputs": [],
   "source": [
    "# Define parameter ranges from low to high\n",
    "F_grid_extended = np.linspace(0.03, 0.14, 3) \n",
    "k_grid_extended = np.linspace(0.045, 0.065, 3)\n",
    "\n",
    "# Create meshgrid - switch order to get F on y-axis, k on x-axis\n",
    "k_mesh_ext, F_mesh_ext = np.meshgrid(k_grid_extended, F_grid_extended)\n",
    "F_points_ext = F_mesh_ext.flatten()\n",
    "k_points_ext = k_mesh_ext.flatten()\n",
    "\n",
    "# Create descriptions\n",
    "descriptions = [f\"F={f:.3f}, k={k:.3f}\" for f, k in zip(F_points_ext, k_points_ext)]\n",
    "\n",
    "# Create models for each parameter set\n",
    "models = []\n",
    "for f, k, desc in zip(F_points_ext, k_points_ext, descriptions):\n",
    "    model = GrayScottModel(N=N, Du=Du, Dv=Dv, f=f, k=k)\n",
    "    models.append(model)"
   ]
  },
  {
   "cell_type": "code",
   "execution_count": null,
   "metadata": {},
   "outputs": [],
   "source": [
    "# Run simulations\n",
    "for i, model in enumerate(models):\n",
    "    model.run(steps=steps, save_interval=50)"
   ]
  },
  {
   "cell_type": "code",
   "execution_count": null,
   "metadata": {},
   "outputs": [],
   "source": [
    "# Create a 3x3 plot of the final U field\n",
    "fig, axs = plt.subplots(3, 3, figsize=(10, 10), constrained_layout=True, sharex=True, sharey=True)\n",
    "\n",
    "for i, model in enumerate(models):\n",
    "    u_final, _ = model.simulation[-1] \n",
    "    row = 2 - (i // 3)  # Reverse row index for bottom-up ordering\n",
    "    col = i % 3        \n",
    "    ax = axs[row, col]  \n",
    "    im = ax.imshow(u_final, cmap=\"viridis\", vmin=0, vmax=1)\n",
    "    ax.set_title(f\"{descriptions[i]}\", fontsize=18)  \n",
    "    ax.axis(\"off\")\n",
    "\n",
    "# Add a shared colorbar with proper font size configuration\n",
    "cbar = fig.colorbar(im, ax=axs, orientation='vertical', fraction=0.046, pad=0.04)\n",
    "cbar.ax.tick_params(labelsize=18) \n",
    "\n",
    "plt.savefig(\"results/gray_scott/gray_scott_3x3_final_states.pgf\")\n",
    "plt.show()"
   ]
  },
  {
   "cell_type": "markdown",
   "metadata": {},
   "source": [
    "### Explore zoomed in region with different f and k values for distinct patterns"
   ]
  },
  {
   "cell_type": "code",
   "execution_count": null,
   "metadata": {},
   "outputs": [],
   "source": [
    "# Format: (Du, Dv, f, k, description)\n",
    "# Parameters from Har-Shemesh et al. (2015)\n",
    "parameter_sets = [\n",
    "    (0.0416, 0.0625),  \n",
    "    (0.0392, 0.0649),  \n",
    "    (0.0175, 0.0504),  \n",
    "    (0.0295, 0.0561)  \n",
    "]\n",
    "\n",
    "# Complete the parameter sets with Du, Dv, and descriptions\n",
    "descriptions = [\"Worm-like structures\", \"Maze-like patterns\", \"Transition zone\", \"Edge of pattern-forming region\"]\n",
    "complete_params = [(Du, Dv, f, k, desc) for (f, k), desc in zip(parameter_sets, descriptions)]\n",
    "\n",
    "# Create the models for each set of parameters\n",
    "models = []\n",
    "for Du, Dv, f, k, desc in complete_params:\n",
    "    model = GrayScottModel(N=N, Du=Du, Dv=Dv, f=f, k=k)\n",
    "    models.append(model)"
   ]
  },
  {
   "cell_type": "code",
   "execution_count": null,
   "metadata": {},
   "outputs": [],
   "source": [
    "# Run simulations\n",
    "for i, model in enumerate(models):\n",
    "    model.run(steps=steps, save_interval=50)"
   ]
  },
  {
   "cell_type": "code",
   "execution_count": null,
   "metadata": {},
   "outputs": [],
   "source": [
    "# Create a 2x2 plot of the final U field from the stored simulation snapshots\n",
    "fig, axs = plt.subplots(2, 2, figsize=(10, 10), constrained_layout=True)\n",
    "\n",
    "for i, model in enumerate(models):\n",
    "    # Get the final snapshot stored in the simulation attribute (u, v)\n",
    "    u_final, _ = model.simulation[-1]\n",
    "    ax = axs[i // 2, i % 2]\n",
    "    im = ax.imshow(u_final, cmap=\"viridis\", vmin=0, vmax=1)\n",
    "    \n",
    "    # Extract f and k values from parameter_sets for the title\n",
    "    f_val = parameter_sets[i][0]\n",
    "    k_val = parameter_sets[i][1]\n",
    "    ax.set_title(f\"F={f_val:.4f}, k={k_val:.4f}\", fontsize=18)\n",
    "    ax.axis(\"off\")\n",
    "\n",
    "# Add a single colorbar for the entire figure\n",
    "cbar = fig.colorbar(im, ax=axs, orientation='vertical', fraction=0.046, pad=0.04)\n",
    "cbar.ax.tick_params(labelsize=18)\n",
    "\n",
    "plt.savefig(\"results/gray_scott/gray_scott_2x2_final_states.pgf\")\n",
    "plt.show()"
   ]
  },
  {
   "cell_type": "code",
   "execution_count": null,
   "metadata": {},
   "outputs": [],
   "source": [
    "# Create and save GIF animations for each simulation\n",
    "for i, model in enumerate(models):\n",
    "    ani = model.create_animation(interval=50)\n",
    "    \n",
    "    # Use the complete_params list which contains descriptions\n",
    "    description = parameter_sets[i]\n",
    "    filename = f\"results/gray_scott/gif_{description}.gif\"\n",
    "    \n",
    "    print(f\"Saving animation as {filename} ...\")\n",
    "    ani.save(filename, writer=PillowWriter(fps=20))"
   ]
  },
  {
   "cell_type": "markdown",
   "metadata": {},
   "source": [
    "# References"
   ]
  },
  {
   "cell_type": "markdown",
   "metadata": {},
   "source": [
    "Har-Shemesh et al., 2015\n",
    "\"Information geometric analysis of phase transitions in complex patterns: the case of the Gray-Scott reaction-diffusion model\",\n",
    "J. Stat. Mech. Theory Exp., 2016(04), 043301.\n",
    "DOI: 10.1088/1742-5468/2016/04/043301"
   ]
  }
 ],
 "metadata": {
  "kernelspec": {
   "display_name": "Python 3",
   "language": "python",
   "name": "python3"
  },
  "language_info": {
   "codemirror_mode": {
    "name": "ipython",
    "version": 3
   },
   "file_extension": ".py",
   "mimetype": "text/x-python",
   "name": "python",
   "nbconvert_exporter": "python",
   "pygments_lexer": "ipython3",
   "version": "3.9.6"
  }
 },
 "nbformat": 4,
 "nbformat_minor": 2
}
