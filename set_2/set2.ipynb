{
 "cells": [
  {
   "cell_type": "markdown",
   "metadata": {},
   "source": [
    "# Assignment Set 2\n",
    "\n",
    "*Authors*: Myriam Belkhatir, Salomé Poulain, Shania Sinha"
   ]
  },
  {
   "cell_type": "markdown",
   "metadata": {},
   "source": [
    "## Import Libraries"
   ]
  },
  {
   "cell_type": "code",
   "execution_count": 76,
   "metadata": {},
   "outputs": [],
   "source": [
    "import numpy as np\n",
    "import matplotlib.pyplot as plt\n",
    "from importlib import reload\n",
    "from matplotlib.animation import FuncAnimation, PillowWriter\n",
    "from importlib import reload\n",
    "import glob\n",
    "import os\n",
    "import imageio\n",
    "\n",
    "%matplotlib inline"
   ]
  },
  {
   "cell_type": "markdown",
   "metadata": {},
   "source": [
    "## A. Growth Model DLA"
   ]
  },
  {
   "cell_type": "code",
   "execution_count": 68,
   "metadata": {},
   "outputs": [],
   "source": [
    "import src.dla\n",
    "reload(src.dla)\n",
    "from src.dla import DLASimulation"
   ]
  },
  {
   "cell_type": "code",
   "execution_count": 70,
   "metadata": {},
   "outputs": [
    {
     "name": "stderr",
     "output_type": "stream",
     "text": [
      " 81%|████████▏ | 813/999 [06:01<01:10,  2.65it/s]"
     ]
    },
    {
     "name": "stdout",
     "output_type": "stream",
     "text": [
      "Cluster has reached the top boundary! Stopping simulation.\n",
      "Simulation stopped after 815 particles due to reaching top boundary\n"
     ]
    },
    {
     "name": "stderr",
     "output_type": "stream",
     "text": [
      " 81%|████████▏ | 813/999 [06:01<01:22,  2.25it/s]"
     ]
    },
    {
     "name": "stdout",
     "output_type": "stream",
     "text": [
      "Simulation completed with 815 particles\n"
     ]
    },
    {
     "name": "stderr",
     "output_type": "stream",
     "text": [
      "\n"
     ]
    }
   ],
   "source": [
    "# Set random seed for reproducibility\n",
    "np.random.seed(42)\n",
    "\n",
    "# Set grid size\n",
    "grid_size_100 = 100\n",
    "\n",
    "# Create and run standard DLA simulation (η=1.0)\n",
    "dla = DLASimulation(N=grid_size_100, eta=1.0)\n",
    "\n",
    "# Uncomment to run the simulation\n",
    "dla.run_simulation()"
   ]
  },
  {
   "cell_type": "markdown",
   "metadata": {},
   "source": [
    "Not implemented: Make a gif of the resulting plots."
   ]
  },
  {
   "cell_type": "code",
   "execution_count": null,
   "metadata": {},
   "outputs": [],
   "source": [
    "# # Create the output directory if it doesn't exist\n",
    "# os.makedirs(\"results\", exist_ok=True)\n",
    "\n",
    "# # Path to images\n",
    "# image_path = \"results/dla_output_eta1.0/*.png\"\n",
    "# image_files = sorted(glob.glob(image_path))\n",
    "\n",
    "# # Check if any images are found\n",
    "# if not image_files:\n",
    "#     print(f\"No image files found at {image_path}\")\n",
    "# else:\n",
    "#     # Read images\n",
    "#     images = [imageio.imread(file) for file in image_files]\n",
    "    \n",
    "#     # Create GIF\n",
    "#     output_file = \"results/dla_output_eta1.gif\"\n",
    "#     imageio.mimsave(output_file, images, duration=0.2)  # duration is in seconds per frame\n",
    "#     print(f\"GIF saved as {output_file}\")"
   ]
  },
  {
   "cell_type": "code",
   "execution_count": null,
   "metadata": {},
   "outputs": [],
   "source": [
    "def run_eta_study(eta_values=[0.5, 1.0, 2.0], N=100, num_particles=1000):\n",
    "    \"\"\"\n",
    "    Run multiple DLA simulations with different eta values.\n",
    "    \"\"\"\n",
    "    for eta in eta_values:\n",
    "        print(f\"Running simulation with η={eta}\")\n",
    "        output_dir = f\"results/dla_output_eta{eta:.1f}\"\n",
    "        \n",
    "        # Set random seed for reproducibility\n",
    "        np.random.seed(42)\n",
    "        \n",
    "        # Create and run DLA simulation\n",
    "        dla = DLASimulation(N=N, eta=eta, output_dir=output_dir)\n",
    "        dla.run_simulation()"
   ]
  },
  {
   "cell_type": "code",
   "execution_count": 73,
   "metadata": {},
   "outputs": [
    {
     "name": "stdout",
     "output_type": "stream",
     "text": [
      "Running simulation with η=0.85\n"
     ]
    },
    {
     "name": "stderr",
     "output_type": "stream",
     "text": [
      "100%|██████████| 999/999 [07:25<00:00,  2.24it/s]\n"
     ]
    },
    {
     "name": "stdout",
     "output_type": "stream",
     "text": [
      "Simulation completed with 1000 particles\n",
      "Running simulation with η=1.5\n"
     ]
    },
    {
     "name": "stderr",
     "output_type": "stream",
     "text": [
      " 40%|████      | 403/999 [03:05<04:04,  2.44it/s]"
     ]
    },
    {
     "name": "stdout",
     "output_type": "stream",
     "text": [
      "Cluster has reached the top boundary! Stopping simulation.\n",
      "Simulation stopped after 405 particles due to reaching top boundary\n"
     ]
    },
    {
     "name": "stderr",
     "output_type": "stream",
     "text": [
      " 40%|████      | 403/999 [03:05<04:34,  2.17it/s]"
     ]
    },
    {
     "name": "stdout",
     "output_type": "stream",
     "text": [
      "Simulation completed with 405 particles\n"
     ]
    },
    {
     "name": "stderr",
     "output_type": "stream",
     "text": [
      "\n"
     ]
    }
   ],
   "source": [
    "# Investigate the influence of eta parameter\n",
    "testing_etas = [0.85, 1.5]\n",
    "run_eta_study(eta_values=testing_etas, N=grid_size_100)"
   ]
  },
  {
   "cell_type": "markdown",
   "metadata": {},
   "source": [
    "### A.1. Can we optimize further?\n",
    "Analyzing effect of $\\omega$ and grid size on the cluster formation."
   ]
  },
  {
   "cell_type": "code",
   "execution_count": 89,
   "metadata": {},
   "outputs": [],
   "source": [
    "import src.analysis_dla\n",
    "reload(src.analysis_dla)\n",
    "from src.analysis_dla import *"
   ]
  },
  {
   "cell_type": "code",
   "execution_count": 90,
   "metadata": {},
   "outputs": [
    {
     "name": "stdout",
     "output_type": "stream",
     "text": [
      "Testing omega = 1.60\n"
     ]
    },
    {
     "name": "stderr",
     "output_type": "stream",
     "text": [
      " 82%|████████▏ | 818/999 [01:07<00:07, 24.90it/s]"
     ]
    },
    {
     "name": "stdout",
     "output_type": "stream",
     "text": [
      "Cluster has reached the top boundary! Stopping simulation.\n",
      "Cluster has reached the top boundary! Stopping simulation.\n"
     ]
    },
    {
     "name": "stderr",
     "output_type": "stream",
     "text": [
      " 83%|████████▎ | 830/999 [01:08<00:06, 24.46it/s]"
     ]
    },
    {
     "name": "stdout",
     "output_type": "stream",
     "text": [
      "Cluster has reached the top boundary! Stopping simulation.\n"
     ]
    },
    {
     "name": "stderr",
     "output_type": "stream",
     "text": [
      " 84%|████████▍ | 839/999 [01:08<00:06, 24.39it/s]"
     ]
    },
    {
     "name": "stdout",
     "output_type": "stream",
     "text": [
      "Cluster has reached the top boundary! Stopping simulation.\n"
     ]
    },
    {
     "name": "stderr",
     "output_type": "stream",
     "text": [
      " 85%|████████▌ | 851/999 [01:08<00:06, 22.73it/s]"
     ]
    },
    {
     "name": "stdout",
     "output_type": "stream",
     "text": [
      "Cluster has reached the top boundary! Stopping simulation.\n",
      "Cluster has reached the top boundary! Stopping simulation.\n"
     ]
    },
    {
     "name": "stderr",
     "output_type": "stream",
     "text": [
      " 86%|████████▌ | 857/999 [01:09<00:06, 22.91it/s]"
     ]
    },
    {
     "name": "stdout",
     "output_type": "stream",
     "text": [
      "Cluster has reached the top boundary! Stopping simulation.\n",
      "Cluster has reached the top boundary! Stopping simulation.\n"
     ]
    },
    {
     "name": "stderr",
     "output_type": "stream",
     "text": [
      " 87%|████████▋ | 866/999 [01:09<00:05, 22.75it/s]"
     ]
    },
    {
     "name": "stdout",
     "output_type": "stream",
     "text": [
      "Cluster has reached the top boundary! Stopping simulation.\n"
     ]
    },
    {
     "name": "stderr",
     "output_type": "stream",
     "text": [
      " 87%|████████▋ | 872/999 [01:09<00:06, 19.17it/s]"
     ]
    },
    {
     "name": "stdout",
     "output_type": "stream",
     "text": [
      "Cluster has reached the top boundary! Stopping simulation.\n",
      "Cluster has reached the top boundary! Stopping simulation.\n",
      "Cluster has reached the top boundary! Stopping simulation.\n"
     ]
    },
    {
     "name": "stderr",
     "output_type": "stream",
     "text": [
      " 88%|████████▊ | 881/999 [01:10<00:05, 22.80it/s]"
     ]
    },
    {
     "name": "stdout",
     "output_type": "stream",
     "text": [
      "Cluster has reached the top boundary! Stopping simulation.\n",
      "Cluster has reached the top boundary! Stopping simulation.\n"
     ]
    },
    {
     "name": "stderr",
     "output_type": "stream",
     "text": [
      " 89%|████████▉ | 890/999 [01:10<00:04, 24.43it/s]"
     ]
    },
    {
     "name": "stdout",
     "output_type": "stream",
     "text": [
      "Cluster has reached the top boundary! Stopping simulation.\n",
      "Cluster has reached the top boundary! Stopping simulation.\n",
      "Cluster has reached the top boundary! Stopping simulation.\n",
      "Cluster has reached the top boundary! Stopping simulation.\n"
     ]
    },
    {
     "name": "stderr",
     "output_type": "stream",
     "text": [
      " 90%|████████▉ | 899/999 [01:11<00:04, 24.69it/s]"
     ]
    },
    {
     "name": "stdout",
     "output_type": "stream",
     "text": [
      "Cluster has reached the top boundary! Stopping simulation.\n",
      "Cluster has reached the top boundary! Stopping simulation.\n",
      "Cluster has reached the top boundary! Stopping simulation.\n"
     ]
    },
    {
     "name": "stderr",
     "output_type": "stream",
     "text": [
      " 91%|█████████ | 908/999 [01:11<00:03, 24.46it/s]"
     ]
    },
    {
     "name": "stdout",
     "output_type": "stream",
     "text": [
      "Cluster has reached the top boundary! Stopping simulation.\n",
      "Cluster has reached the top boundary! Stopping simulation.\n",
      "Cluster has reached the top boundary! Stopping simulation.\n"
     ]
    },
    {
     "name": "stderr",
     "output_type": "stream",
     "text": [
      " 91%|█████████▏| 914/999 [01:11<00:03, 24.83it/s]"
     ]
    },
    {
     "name": "stdout",
     "output_type": "stream",
     "text": [
      "Cluster has reached the top boundary! Stopping simulation.\n",
      "Cluster has reached the top boundary! Stopping simulation.\n"
     ]
    },
    {
     "name": "stderr",
     "output_type": "stream",
     "text": [
      " 92%|█████████▏| 923/999 [01:12<00:02, 25.35it/s]"
     ]
    },
    {
     "name": "stdout",
     "output_type": "stream",
     "text": [
      "Cluster has reached the top boundary! Stopping simulation.\n",
      "Cluster has reached the top boundary! Stopping simulation.\n",
      "Cluster has reached the top boundary! Stopping simulation.\n",
      "Cluster has reached the top boundary! Stopping simulation.\n",
      "Cluster has reached the top boundary! Stopping simulation.\n",
      "Cluster has reached the top boundary! Stopping simulation.\n"
     ]
    },
    {
     "name": "stderr",
     "output_type": "stream",
     "text": [
      " 93%|█████████▎| 932/999 [01:12<00:02, 25.21it/s]"
     ]
    },
    {
     "name": "stdout",
     "output_type": "stream",
     "text": [
      "Cluster has reached the top boundary! Stopping simulation.\n",
      "Cluster has reached the top boundary! Stopping simulation.\n",
      "Cluster has reached the top boundary! Stopping simulation.\n",
      "Cluster has reached the top boundary! Stopping simulation.\n",
      "Cluster has reached the top boundary! Stopping simulation.\n"
     ]
    },
    {
     "name": "stderr",
     "output_type": "stream",
     "text": [
      " 94%|█████████▍| 941/999 [01:12<00:02, 25.25it/s]"
     ]
    },
    {
     "name": "stdout",
     "output_type": "stream",
     "text": [
      "Cluster has reached the top boundary! Stopping simulation.\n",
      "Cluster has reached the top boundary! Stopping simulation.\n",
      "Cluster has reached the top boundary! Stopping simulation.\n",
      "Cluster has reached the top boundary! Stopping simulation.\n"
     ]
    },
    {
     "name": "stderr",
     "output_type": "stream",
     "text": [
      " 95%|█████████▍| 947/999 [01:12<00:02, 25.33it/s]"
     ]
    },
    {
     "name": "stdout",
     "output_type": "stream",
     "text": [
      "Cluster has reached the top boundary! Stopping simulation.\n",
      "Cluster has reached the top boundary! Stopping simulation.\n",
      "Cluster has reached the top boundary! Stopping simulation.\n"
     ]
    },
    {
     "name": "stderr",
     "output_type": "stream",
     "text": [
      " 95%|█████████▌| 953/999 [01:13<00:01, 24.70it/s]"
     ]
    },
    {
     "name": "stdout",
     "output_type": "stream",
     "text": [
      "Cluster has reached the top boundary! Stopping simulation.\n",
      "Cluster has reached the top boundary! Stopping simulation.\n",
      "Cluster has reached the top boundary! Stopping simulation.\n",
      "Cluster has reached the top boundary! Stopping simulation.\n"
     ]
    },
    {
     "name": "stderr",
     "output_type": "stream",
     "text": [
      " 96%|█████████▋| 962/999 [01:13<00:01, 24.19it/s]"
     ]
    },
    {
     "name": "stdout",
     "output_type": "stream",
     "text": [
      "Cluster has reached the top boundary! Stopping simulation.\n",
      "Cluster has reached the top boundary! Stopping simulation.\n",
      "Cluster has reached the top boundary! Stopping simulation.\n"
     ]
    },
    {
     "name": "stderr",
     "output_type": "stream",
     "text": [
      " 97%|█████████▋| 974/999 [01:14<00:00, 26.75it/s]"
     ]
    },
    {
     "name": "stdout",
     "output_type": "stream",
     "text": [
      "Cluster has reached the top boundary! Stopping simulation.\n",
      "Cluster has reached the top boundary! Stopping simulation.\n",
      "Cluster has reached the top boundary! Stopping simulation.\n",
      "Cluster has reached the top boundary! Stopping simulation.\n",
      "Cluster has reached the top boundary! Stopping simulation.\n",
      "Cluster has reached the top boundary! Stopping simulation.\n"
     ]
    },
    {
     "name": "stderr",
     "output_type": "stream",
     "text": [
      " 98%|█████████▊| 980/999 [01:14<00:00, 27.41it/s]"
     ]
    },
    {
     "name": "stdout",
     "output_type": "stream",
     "text": [
      "Cluster has reached the top boundary! Stopping simulation.\n",
      "Cluster has reached the top boundary! Stopping simulation.\n",
      "Cluster has reached the top boundary! Stopping simulation.\n"
     ]
    },
    {
     "name": "stderr",
     "output_type": "stream",
     "text": [
      " 99%|█████████▉| 989/999 [01:14<00:00, 26.07it/s]"
     ]
    },
    {
     "name": "stdout",
     "output_type": "stream",
     "text": [
      "Cluster has reached the top boundary! Stopping simulation.\n",
      "Cluster has reached the top boundary! Stopping simulation.\n",
      "Cluster has reached the top boundary! Stopping simulation.\n",
      "Cluster has reached the top boundary! Stopping simulation.\n"
     ]
    },
    {
     "name": "stderr",
     "output_type": "stream",
     "text": [
      "100%|█████████▉| 995/999 [01:14<00:00, 26.73it/s]"
     ]
    },
    {
     "name": "stdout",
     "output_type": "stream",
     "text": [
      "Cluster has reached the top boundary! Stopping simulation.\n",
      "Cluster has reached the top boundary! Stopping simulation.\n",
      "Cluster has reached the top boundary! Stopping simulation.\n"
     ]
    },
    {
     "name": "stderr",
     "output_type": "stream",
     "text": [
      "100%|██████████| 999/999 [01:14<00:00, 13.33it/s]\n"
     ]
    },
    {
     "name": "stdout",
     "output_type": "stream",
     "text": [
      "Cluster has reached the top boundary! Stopping simulation.\n",
      "Testing omega = 1.70\n"
     ]
    },
    {
     "name": "stderr",
     "output_type": "stream",
     "text": [
      " 82%|████████▏ | 820/999 [00:50<00:05, 31.01it/s]"
     ]
    },
    {
     "name": "stdout",
     "output_type": "stream",
     "text": [
      "Cluster has reached the top boundary! Stopping simulation.\n",
      "Cluster has reached the top boundary! Stopping simulation.\n"
     ]
    },
    {
     "name": "stderr",
     "output_type": "stream",
     "text": [
      " 83%|████████▎ | 832/999 [00:50<00:05, 30.53it/s]"
     ]
    },
    {
     "name": "stdout",
     "output_type": "stream",
     "text": [
      "Cluster has reached the top boundary! Stopping simulation.\n"
     ]
    },
    {
     "name": "stderr",
     "output_type": "stream",
     "text": [
      " 84%|████████▍ | 840/999 [00:51<00:05, 29.81it/s]"
     ]
    },
    {
     "name": "stdout",
     "output_type": "stream",
     "text": [
      "Cluster has reached the top boundary! Stopping simulation.\n"
     ]
    },
    {
     "name": "stderr",
     "output_type": "stream",
     "text": [
      " 85%|████████▍ | 848/999 [00:51<00:04, 30.64it/s]"
     ]
    },
    {
     "name": "stdout",
     "output_type": "stream",
     "text": [
      "Cluster has reached the top boundary! Stopping simulation.\n",
      "Cluster has reached the top boundary! Stopping simulation.\n"
     ]
    },
    {
     "name": "stderr",
     "output_type": "stream",
     "text": [
      " 86%|████████▌ | 856/999 [00:51<00:04, 30.71it/s]"
     ]
    },
    {
     "name": "stdout",
     "output_type": "stream",
     "text": [
      "Cluster has reached the top boundary! Stopping simulation.\n",
      "Cluster has reached the top boundary! Stopping simulation.\n"
     ]
    },
    {
     "name": "stderr",
     "output_type": "stream",
     "text": [
      " 87%|████████▋ | 868/999 [00:52<00:04, 31.84it/s]"
     ]
    },
    {
     "name": "stdout",
     "output_type": "stream",
     "text": [
      "Cluster has reached the top boundary! Stopping simulation.\n",
      "Cluster has reached the top boundary! Stopping simulation.\n",
      "Cluster has reached the top boundary! Stopping simulation.\n"
     ]
    },
    {
     "name": "stderr",
     "output_type": "stream",
     "text": [
      " 88%|████████▊ | 880/999 [00:52<00:03, 31.68it/s]"
     ]
    },
    {
     "name": "stdout",
     "output_type": "stream",
     "text": [
      "Cluster has reached the top boundary! Stopping simulation.\n",
      "Cluster has reached the top boundary! Stopping simulation.\n",
      "Cluster has reached the top boundary! Stopping simulation.\n"
     ]
    },
    {
     "name": "stderr",
     "output_type": "stream",
     "text": [
      " 89%|████████▉ | 888/999 [00:52<00:03, 32.58it/s]"
     ]
    },
    {
     "name": "stdout",
     "output_type": "stream",
     "text": [
      "Cluster has reached the top boundary! Stopping simulation.\n",
      "Cluster has reached the top boundary! Stopping simulation.\n",
      "Cluster has reached the top boundary! Stopping simulation.\n"
     ]
    },
    {
     "name": "stderr",
     "output_type": "stream",
     "text": [
      " 90%|████████▉ | 896/999 [00:52<00:03, 32.71it/s]"
     ]
    },
    {
     "name": "stdout",
     "output_type": "stream",
     "text": [
      "Cluster has reached the top boundary! Stopping simulation.\n",
      "Cluster has reached the top boundary! Stopping simulation.\n",
      "Cluster has reached the top boundary! Stopping simulation.\n",
      "Cluster has reached the top boundary! Stopping simulation.\n"
     ]
    },
    {
     "name": "stderr",
     "output_type": "stream",
     "text": [
      " 91%|█████████ | 908/999 [00:53<00:02, 32.16it/s]"
     ]
    },
    {
     "name": "stdout",
     "output_type": "stream",
     "text": [
      "Cluster has reached the top boundary! Stopping simulation.\n",
      "Cluster has reached the top boundary! Stopping simulation.\n",
      "Cluster has reached the top boundary! Stopping simulation.\n"
     ]
    },
    {
     "name": "stderr",
     "output_type": "stream",
     "text": [
      " 92%|█████████▏| 916/999 [00:53<00:02, 32.09it/s]"
     ]
    },
    {
     "name": "stdout",
     "output_type": "stream",
     "text": [
      "Cluster has reached the top boundary! Stopping simulation.\n",
      "Cluster has reached the top boundary! Stopping simulation.\n",
      "Cluster has reached the top boundary! Stopping simulation.\n"
     ]
    },
    {
     "name": "stderr",
     "output_type": "stream",
     "text": [
      " 92%|█████████▏| 924/999 [00:53<00:02, 31.24it/s]"
     ]
    },
    {
     "name": "stdout",
     "output_type": "stream",
     "text": [
      "Cluster has reached the top boundary! Stopping simulation.\n",
      "Cluster has reached the top boundary! Stopping simulation.\n",
      "Cluster has reached the top boundary! Stopping simulation.\n",
      "Cluster has reached the top boundary! Stopping simulation.\n",
      "Cluster has reached the top boundary! Stopping simulation.\n"
     ]
    },
    {
     "name": "stderr",
     "output_type": "stream",
     "text": [
      " 93%|█████████▎| 932/999 [00:54<00:02, 31.52it/s]"
     ]
    },
    {
     "name": "stdout",
     "output_type": "stream",
     "text": [
      "Cluster has reached the top boundary! Stopping simulation.\n",
      "Cluster has reached the top boundary! Stopping simulation.\n",
      "Cluster has reached the top boundary! Stopping simulation.\n",
      "Cluster has reached the top boundary! Stopping simulation.\n",
      "Cluster has reached the top boundary! Stopping simulation.\n"
     ]
    },
    {
     "name": "stderr",
     "output_type": "stream",
     "text": [
      " 94%|█████████▍| 944/999 [00:54<00:01, 31.26it/s]"
     ]
    },
    {
     "name": "stdout",
     "output_type": "stream",
     "text": [
      "Cluster has reached the top boundary! Stopping simulation.\n",
      "Cluster has reached the top boundary! Stopping simulation.\n",
      "Cluster has reached the top boundary! Stopping simulation.\n",
      "Cluster has reached the top boundary! Stopping simulation.\n",
      "Cluster has reached the top boundary! Stopping simulation.\n"
     ]
    },
    {
     "name": "stderr",
     "output_type": "stream",
     "text": [
      " 95%|█████████▌| 952/999 [00:54<00:01, 30.94it/s]"
     ]
    },
    {
     "name": "stdout",
     "output_type": "stream",
     "text": [
      "Cluster has reached the top boundary! Stopping simulation.\n",
      "Cluster has reached the top boundary! Stopping simulation.\n",
      "Cluster has reached the top boundary! Stopping simulation.\n",
      "Cluster has reached the top boundary! Stopping simulation.\n",
      "Cluster has reached the top boundary! Stopping simulation.\n",
      "Cluster has reached the top boundary! Stopping simulation.\n"
     ]
    },
    {
     "name": "stderr",
     "output_type": "stream",
     "text": [
      " 96%|█████████▌| 960/999 [00:54<00:01, 30.56it/s]"
     ]
    },
    {
     "name": "stdout",
     "output_type": "stream",
     "text": [
      "Cluster has reached the top boundary! Stopping simulation.\n",
      "Cluster has reached the top boundary! Stopping simulation.\n",
      "Cluster has reached the top boundary! Stopping simulation.\n"
     ]
    },
    {
     "name": "stderr",
     "output_type": "stream",
     "text": [
      " 97%|█████████▋| 971/999 [00:55<00:01, 25.74it/s]"
     ]
    },
    {
     "name": "stdout",
     "output_type": "stream",
     "text": [
      "Cluster has reached the top boundary! Stopping simulation.\n",
      "Cluster has reached the top boundary! Stopping simulation.\n",
      "Cluster has reached the top boundary! Stopping simulation.\n",
      "Cluster has reached the top boundary! Stopping simulation.\n"
     ]
    },
    {
     "name": "stderr",
     "output_type": "stream",
     "text": [
      " 98%|█████████▊| 982/999 [00:55<00:00, 27.29it/s]"
     ]
    },
    {
     "name": "stdout",
     "output_type": "stream",
     "text": [
      "Cluster has reached the top boundary! Stopping simulation.\n",
      "Cluster has reached the top boundary! Stopping simulation.\n",
      "Cluster has reached the top boundary! Stopping simulation.\n"
     ]
    },
    {
     "name": "stderr",
     "output_type": "stream",
     "text": [
      " 99%|█████████▊| 985/999 [00:55<00:00, 25.63it/s]"
     ]
    },
    {
     "name": "stdout",
     "output_type": "stream",
     "text": [
      "Cluster has reached the top boundary! Stopping simulation.\n",
      "Cluster has reached the top boundary! Stopping simulation.\n"
     ]
    },
    {
     "name": "stderr",
     "output_type": "stream",
     "text": [
      "100%|█████████▉| 995/999 [00:56<00:00, 23.49it/s]"
     ]
    },
    {
     "name": "stdout",
     "output_type": "stream",
     "text": [
      "Cluster has reached the top boundary! Stopping simulation.\n",
      "Cluster has reached the top boundary! Stopping simulation.\n",
      "Cluster has reached the top boundary! Stopping simulation.\n",
      "Cluster has reached the top boundary! Stopping simulation.\n",
      "Cluster has reached the top boundary! Stopping simulation.\n"
     ]
    },
    {
     "name": "stderr",
     "output_type": "stream",
     "text": [
      "100%|██████████| 999/999 [00:56<00:00, 17.67it/s]\n"
     ]
    },
    {
     "name": "stdout",
     "output_type": "stream",
     "text": [
      "Cluster has reached the top boundary! Stopping simulation.\n",
      "Testing omega = 1.79\n"
     ]
    },
    {
     "name": "stderr",
     "output_type": "stream",
     "text": [
      " 82%|████████▏ | 821/999 [00:36<00:04, 39.19it/s]"
     ]
    },
    {
     "name": "stdout",
     "output_type": "stream",
     "text": [
      "Cluster has reached the top boundary! Stopping simulation.\n",
      "Cluster has reached the top boundary! Stopping simulation.\n"
     ]
    },
    {
     "name": "stderr",
     "output_type": "stream",
     "text": [
      " 83%|████████▎ | 830/999 [00:37<00:04, 39.88it/s]"
     ]
    },
    {
     "name": "stdout",
     "output_type": "stream",
     "text": [
      "Cluster has reached the top boundary! Stopping simulation.\n"
     ]
    },
    {
     "name": "stderr",
     "output_type": "stream",
     "text": [
      " 85%|████████▍ | 845/999 [00:37<00:03, 40.39it/s]"
     ]
    },
    {
     "name": "stdout",
     "output_type": "stream",
     "text": [
      "Cluster has reached the top boundary! Stopping simulation.\n",
      "Cluster has reached the top boundary! Stopping simulation.\n",
      "Cluster has reached the top boundary! Stopping simulation.\n"
     ]
    },
    {
     "name": "stderr",
     "output_type": "stream",
     "text": [
      " 86%|████████▌ | 860/999 [00:37<00:03, 40.50it/s]"
     ]
    },
    {
     "name": "stdout",
     "output_type": "stream",
     "text": [
      "Cluster has reached the top boundary! Stopping simulation.\n",
      "Cluster has reached the top boundary! Stopping simulation.\n",
      "Cluster has reached the top boundary! Stopping simulation.\n"
     ]
    },
    {
     "name": "stderr",
     "output_type": "stream",
     "text": [
      " 88%|████████▊ | 875/999 [00:38<00:03, 40.42it/s]"
     ]
    },
    {
     "name": "stdout",
     "output_type": "stream",
     "text": [
      "Cluster has reached the top boundary! Stopping simulation.\n",
      "Cluster has reached the top boundary! Stopping simulation.\n",
      "Cluster has reached the top boundary! Stopping simulation.\n",
      "Cluster has reached the top boundary! Stopping simulation.\n"
     ]
    },
    {
     "name": "stderr",
     "output_type": "stream",
     "text": [
      " 89%|████████▉ | 890/999 [00:38<00:02, 40.41it/s]"
     ]
    },
    {
     "name": "stdout",
     "output_type": "stream",
     "text": [
      "Cluster has reached the top boundary! Stopping simulation.\n",
      "Cluster has reached the top boundary! Stopping simulation.\n",
      "Cluster has reached the top boundary! Stopping simulation.\n",
      "Cluster has reached the top boundary! Stopping simulation.\n",
      "Cluster has reached the top boundary! Stopping simulation.\n",
      "Cluster has reached the top boundary! Stopping simulation.\n"
     ]
    },
    {
     "name": "stderr",
     "output_type": "stream",
     "text": [
      " 90%|█████████ | 900/999 [00:38<00:02, 40.21it/s]"
     ]
    },
    {
     "name": "stdout",
     "output_type": "stream",
     "text": [
      "Cluster has reached the top boundary! Stopping simulation.\n",
      "Cluster has reached the top boundary! Stopping simulation.\n"
     ]
    },
    {
     "name": "stderr",
     "output_type": "stream",
     "text": [
      " 91%|█████████ | 910/999 [00:39<00:02, 33.18it/s]"
     ]
    },
    {
     "name": "stdout",
     "output_type": "stream",
     "text": [
      "Cluster has reached the top boundary! Stopping simulation.\n",
      "Cluster has reached the top boundary! Stopping simulation.\n",
      "Cluster has reached the top boundary! Stopping simulation.\n",
      "Cluster has reached the top boundary! Stopping simulation.\n",
      "Cluster has reached the top boundary! Stopping simulation.\n"
     ]
    },
    {
     "name": "stderr",
     "output_type": "stream",
     "text": [
      " 92%|█████████▏| 923/999 [00:39<00:02, 37.36it/s]"
     ]
    },
    {
     "name": "stdout",
     "output_type": "stream",
     "text": [
      "Cluster has reached the top boundary! Stopping simulation.\n",
      "Cluster has reached the top boundary! Stopping simulation.\n",
      "Cluster has reached the top boundary! Stopping simulation.\n",
      "Cluster has reached the top boundary! Stopping simulation.\n",
      "Cluster has reached the top boundary! Stopping simulation.\n",
      "Cluster has reached the top boundary! Stopping simulation.\n"
     ]
    },
    {
     "name": "stderr",
     "output_type": "stream",
     "text": [
      " 93%|█████████▎| 933/999 [00:39<00:01, 40.15it/s]"
     ]
    },
    {
     "name": "stdout",
     "output_type": "stream",
     "text": [
      "Cluster has reached the top boundary! Stopping simulation.\n",
      "Cluster has reached the top boundary! Stopping simulation.\n",
      "Cluster has reached the top boundary! Stopping simulation.\n",
      "Cluster has reached the top boundary! Stopping simulation.\n",
      "Cluster has reached the top boundary! Stopping simulation.\n"
     ]
    },
    {
     "name": "stderr",
     "output_type": "stream",
     "text": [
      " 94%|█████████▍| 943/999 [00:40<00:01, 41.63it/s]"
     ]
    },
    {
     "name": "stdout",
     "output_type": "stream",
     "text": [
      "Cluster has reached the top boundary! Stopping simulation.\n",
      "Cluster has reached the top boundary! Stopping simulation.\n",
      "Cluster has reached the top boundary! Stopping simulation.\n",
      "Cluster has reached the top boundary! Stopping simulation.\n",
      "Cluster has reached the top boundary! Stopping simulation.\n"
     ]
    },
    {
     "name": "stderr",
     "output_type": "stream",
     "text": [
      " 95%|█████████▌| 953/999 [00:40<00:01, 42.48it/s]"
     ]
    },
    {
     "name": "stdout",
     "output_type": "stream",
     "text": [
      "Cluster has reached the top boundary! Stopping simulation.\n",
      "Cluster has reached the top boundary! Stopping simulation.\n",
      "Cluster has reached the top boundary! Stopping simulation.\n",
      "Cluster has reached the top boundary! Stopping simulation.\n",
      "Cluster has reached the top boundary! Stopping simulation.\n",
      "Cluster has reached the top boundary! Stopping simulation.\n"
     ]
    },
    {
     "name": "stderr",
     "output_type": "stream",
     "text": [
      " 96%|█████████▋| 963/999 [00:40<00:00, 40.44it/s]"
     ]
    },
    {
     "name": "stdout",
     "output_type": "stream",
     "text": [
      "Cluster has reached the top boundary! Stopping simulation.\n",
      "Cluster has reached the top boundary! Stopping simulation.\n",
      "Cluster has reached the top boundary! Stopping simulation.\n"
     ]
    },
    {
     "name": "stderr",
     "output_type": "stream",
     "text": [
      " 97%|█████████▋| 968/999 [00:40<00:00, 41.21it/s]"
     ]
    },
    {
     "name": "stdout",
     "output_type": "stream",
     "text": [
      "Cluster has reached the top boundary! Stopping simulation.\n",
      "Cluster has reached the top boundary! Stopping simulation.\n",
      "Cluster has reached the top boundary! Stopping simulation.\n"
     ]
    },
    {
     "name": "stderr",
     "output_type": "stream",
     "text": [
      " 98%|█████████▊| 977/999 [00:40<00:00, 33.72it/s]"
     ]
    },
    {
     "name": "stdout",
     "output_type": "stream",
     "text": [
      "Cluster has reached the top boundary! Stopping simulation.\n",
      "Cluster has reached the top boundary! Stopping simulation.\n",
      "Cluster has reached the top boundary! Stopping simulation.\n"
     ]
    },
    {
     "name": "stderr",
     "output_type": "stream",
     "text": [
      " 99%|█████████▉| 987/999 [00:41<00:00, 38.11it/s]"
     ]
    },
    {
     "name": "stdout",
     "output_type": "stream",
     "text": [
      "Cluster has reached the top boundary! Stopping simulation.\n",
      "Cluster has reached the top boundary! Stopping simulation.\n",
      "Cluster has reached the top boundary! Stopping simulation.\n",
      "Cluster has reached the top boundary! Stopping simulation.\n"
     ]
    },
    {
     "name": "stderr",
     "output_type": "stream",
     "text": [
      " 99%|█████████▉| 992/999 [00:41<00:00, 39.36it/s]"
     ]
    },
    {
     "name": "stdout",
     "output_type": "stream",
     "text": [
      "Cluster has reached the top boundary! Stopping simulation.\n",
      "Cluster has reached the top boundary! Stopping simulation.\n",
      "Cluster has reached the top boundary! Stopping simulation.\n"
     ]
    },
    {
     "name": "stderr",
     "output_type": "stream",
     "text": [
      "100%|██████████| 999/999 [00:41<00:00, 24.03it/s]\n"
     ]
    },
    {
     "name": "stdout",
     "output_type": "stream",
     "text": [
      "Cluster has reached the top boundary! Stopping simulation.\n",
      "Cluster has reached the top boundary! Stopping simulation.\n",
      "Testing omega = 1.89\n"
     ]
    },
    {
     "name": "stderr",
     "output_type": "stream",
     "text": [
      " 47%|████▋     | 467/999 [00:15<00:17, 30.94it/s]\n"
     ]
    },
    {
     "ename": "ValueError",
     "evalue": "probabilities are not non-negative",
     "output_type": "error",
     "traceback": [
      "\u001b[0;31m---------------------------------------------------------------------------\u001b[0m",
      "\u001b[0;31mValueError\u001b[0m                                Traceback (most recent call last)",
      "Cell \u001b[0;32mIn[90], line 2\u001b[0m\n\u001b[1;32m      1\u001b[0m \u001b[38;5;66;03m# Part 1: Analyze omega performance for a fixed grid size\u001b[39;00m\n\u001b[0;32m----> 2\u001b[0m omega_values, total_iterations, execution_times \u001b[38;5;241m=\u001b[39m \u001b[43manalyze_omega_performance\u001b[49m\u001b[43m(\u001b[49m\u001b[43mN\u001b[49m\u001b[38;5;241;43m=\u001b[39;49m\u001b[43mgrid_size_100\u001b[49m\u001b[43m,\u001b[49m\u001b[43m \u001b[49m\u001b[43mnum_particles\u001b[49m\u001b[38;5;241;43m=\u001b[39;49m\u001b[38;5;241;43m1000\u001b[39;49m\u001b[43m)\u001b[49m\n\u001b[1;32m      4\u001b[0m \u001b[38;5;66;03m# Plot the results\u001b[39;00m\n\u001b[1;32m      5\u001b[0m plot_results(omega_values, total_iterations, execution_times, grid_size_100)\n",
      "File \u001b[0;32m~/Desktop/UvA/Academics/scientific-computing/scientific-computing-group-1/set_2/src/analysis_dla.py:40\u001b[0m, in \u001b[0;36manalyze_omega_performance\u001b[0;34m(N, num_particles, omega_values)\u001b[0m\n\u001b[1;32m     37\u001b[0m total_iters \u001b[38;5;241m+\u001b[39m\u001b[38;5;241m=\u001b[39m iters\n\u001b[1;32m     39\u001b[0m \u001b[38;5;66;03m# Add a new particle\u001b[39;00m\n\u001b[0;32m---> 40\u001b[0m success \u001b[38;5;241m=\u001b[39m \u001b[43mdla\u001b[49m\u001b[38;5;241;43m.\u001b[39;49m\u001b[43mgrow_cluster\u001b[49m\u001b[43m(\u001b[49m\u001b[43m)\u001b[49m\n\u001b[1;32m     41\u001b[0m \u001b[38;5;28;01mif\u001b[39;00m \u001b[38;5;129;01mnot\u001b[39;00m success:\n\u001b[1;32m     42\u001b[0m     \u001b[38;5;28mprint\u001b[39m(\u001b[38;5;124m\"\u001b[39m\u001b[38;5;124mUnable to add more particles. Simulation stopped.\u001b[39m\u001b[38;5;124m\"\u001b[39m)\n",
      "File \u001b[0;32m~/Desktop/UvA/Academics/scientific-computing/scientific-computing-group-1/set_2/src/dla.py:160\u001b[0m, in \u001b[0;36mDLASimulation.grow_cluster\u001b[0;34m(self)\u001b[0m\n\u001b[1;32m    157\u001b[0m probabilities \u001b[38;5;241m=\u001b[39m \u001b[38;5;28mself\u001b[39m\u001b[38;5;241m.\u001b[39mcalculate_growth_probabilities(candidates)\n\u001b[1;32m    159\u001b[0m \u001b[38;5;66;03m# Choose a candidate based on probabilities\u001b[39;00m\n\u001b[0;32m--> 160\u001b[0m idx \u001b[38;5;241m=\u001b[39m \u001b[43mnp\u001b[49m\u001b[38;5;241;43m.\u001b[39;49m\u001b[43mrandom\u001b[49m\u001b[38;5;241;43m.\u001b[39;49m\u001b[43mchoice\u001b[49m\u001b[43m(\u001b[49m\u001b[38;5;28;43mlen\u001b[39;49m\u001b[43m(\u001b[49m\u001b[43mcandidates\u001b[49m\u001b[43m)\u001b[49m\u001b[43m,\u001b[49m\u001b[43m \u001b[49m\u001b[43mp\u001b[49m\u001b[38;5;241;43m=\u001b[39;49m\u001b[43mprobabilities\u001b[49m\u001b[43m)\u001b[49m\n\u001b[1;32m    161\u001b[0m new_i, new_j \u001b[38;5;241m=\u001b[39m candidates[idx]\n\u001b[1;32m    163\u001b[0m \u001b[38;5;66;03m# Add the chosen candidate to the cluster\u001b[39;00m\n",
      "File \u001b[0;32mnumpy/random/mtrand.pyx:996\u001b[0m, in \u001b[0;36mnumpy.random.mtrand.RandomState.choice\u001b[0;34m()\u001b[0m\n",
      "\u001b[0;31mValueError\u001b[0m: probabilities are not non-negative"
     ]
    }
   ],
   "source": [
    "# Part 1: Analyze omega performance for a fixed grid size\n",
    "omega_values, total_iterations, execution_times = analyze_omega_performance(N=grid_size_100, num_particles=1000)\n",
    "\n",
    "# Plot the results\n",
    "plot_results(omega_values, total_iterations, execution_times, grid_size_100)"
   ]
  },
  {
   "cell_type": "code",
   "execution_count": null,
   "metadata": {},
   "outputs": [],
   "source": [
    "# Part 2: Find optimal omega for different grid sizes\n",
    "grid_sizes = [10, 50, 150, 200]\n",
    "\n",
    "N_values, optimal_omegas, theoretical_omegas = find_optimal_omega_vs_gridsize()\n",
    "\n",
    "# Plot optimal omega vs grid size\n",
    "plot_optimal_omega_vs_N(N_values, optimal_omegas, theoretical_omegas)"
   ]
  },
  {
   "cell_type": "markdown",
   "metadata": {},
   "source": [
    "## B. and C. Monte-Carlo DLA Simulation"
   ]
  },
  {
   "cell_type": "code",
   "execution_count": null,
   "metadata": {},
   "outputs": [],
   "source": [
    "import src.monte_carlo_dla\n",
    "reload(src.monte_carlo_dla)\n",
    "from src.monte_carlo_dla import RandomWalker"
   ]
  },
  {
   "cell_type": "code",
   "execution_count": null,
   "metadata": {},
   "outputs": [],
   "source": [
    "# Run simulation\n",
    "stochastic_dla = RandomWalker(N=100, num_particles=1000)\n",
    "stochastic_dla.run_simulation()"
   ]
  },
  {
   "cell_type": "markdown",
   "metadata": {},
   "source": [
    "## D. Gray-Scott model"
   ]
  },
  {
   "cell_type": "code",
   "execution_count": null,
   "metadata": {},
   "outputs": [],
   "source": [
    "import src.gray_scott\n",
    "reload(src.gray_scott)\n",
    "from src.gray_scott import GrayScottModel"
   ]
  },
  {
   "cell_type": "code",
   "execution_count": null,
   "metadata": {},
   "outputs": [],
   "source": [
    "# Initialize the Gray-Scott model\n",
    "N = 200\n",
    "steps = 15000\n",
    "Du = 0.16\n",
    "Dv = 0.08"
   ]
  },
  {
   "cell_type": "markdown",
   "metadata": {},
   "source": [
    "### Explore broad range of f and k"
   ]
  },
  {
   "cell_type": "code",
   "execution_count": null,
   "metadata": {},
   "outputs": [],
   "source": [
    "# Define parameter ranges from low to high\n",
    "F_grid_extended = np.linspace(0.03, 0.14, 3) \n",
    "k_grid_extended = np.linspace(0.045, 0.065, 3)\n",
    "\n",
    "# Create meshgrid - switch order to get F on y-axis, k on x-axis\n",
    "k_mesh_ext, F_mesh_ext = np.meshgrid(k_grid_extended, F_grid_extended)\n",
    "F_points_ext = F_mesh_ext.flatten()\n",
    "k_points_ext = k_mesh_ext.flatten()\n",
    "\n",
    "# Create descriptions\n",
    "descriptions = [f\"F={f:.3f}, k={k:.3f}\" for f, k in zip(F_points_ext, k_points_ext)]\n",
    "\n",
    "# Create models for each parameter set\n",
    "models = []\n",
    "for f, k, desc in zip(F_points_ext, k_points_ext, descriptions):\n",
    "    model = GrayScottModel(N=N, Du=Du, Dv=Dv, f=f, k=k)\n",
    "    models.append(model)"
   ]
  },
  {
   "cell_type": "code",
   "execution_count": null,
   "metadata": {},
   "outputs": [],
   "source": [
    "# Run simulations\n",
    "for i, model in enumerate(models):\n",
    "    model.run(steps=steps, save_interval=50)"
   ]
  },
  {
   "cell_type": "code",
   "execution_count": null,
   "metadata": {},
   "outputs": [],
   "source": [
    "# Create a 3x3 plot of the final U field\n",
    "fig, axs = plt.subplots(3, 3, figsize=(10, 10), constrained_layout=True, sharex=True, sharey=True)\n",
    "\n",
    "for i, model in enumerate(models):\n",
    "    u_final, _ = model.simulation[-1] \n",
    "    row = 2 - (i // 3)  # Reverse row index for bottom-up ordering\n",
    "    col = i % 3        \n",
    "    ax = axs[row, col]  \n",
    "    im = ax.imshow(u_final, cmap=\"viridis\", vmin=0, vmax=1)\n",
    "    ax.set_title(f\"{descriptions[i]}\", fontsize=18)  \n",
    "    ax.axis(\"off\")\n",
    "\n",
    "# Add a shared colorbar with proper font size configuration\n",
    "cbar = fig.colorbar(im, ax=axs, orientation='vertical', fraction=0.046, pad=0.04)\n",
    "cbar.ax.tick_params(labelsize=18) \n",
    "\n",
    "plt.savefig(\"results/gray_scott/gray_scott_3x3_final_states.pgf\")\n",
    "plt.show()"
   ]
  },
  {
   "cell_type": "markdown",
   "metadata": {},
   "source": [
    "### Explore zoomed in region with different f and k values for distinct patterns"
   ]
  },
  {
   "cell_type": "code",
   "execution_count": null,
   "metadata": {},
   "outputs": [],
   "source": [
    "# Format: (Du, Dv, f, k, description)\n",
    "# Parameters from Har-Shemesh et al. (2015)\n",
    "parameter_sets = [\n",
    "    (0.0416, 0.0625),  \n",
    "    (0.0392, 0.0649),  \n",
    "    (0.0175, 0.0504),  \n",
    "    (0.0295, 0.0561)  \n",
    "]\n",
    "\n",
    "# Complete the parameter sets with Du, Dv, and descriptions\n",
    "descriptions = [\"Worm-like structures\", \"Maze-like patterns\", \"Transition zone\", \"Edge of pattern-forming region\"]\n",
    "complete_params = [(Du, Dv, f, k, desc) for (f, k), desc in zip(parameter_sets, descriptions)]\n",
    "\n",
    "# Create the models for each set of parameters\n",
    "models = []\n",
    "for Du, Dv, f, k, desc in complete_params:\n",
    "    model = GrayScottModel(N=N, Du=Du, Dv=Dv, f=f, k=k)\n",
    "    models.append(model)"
   ]
  },
  {
   "cell_type": "code",
   "execution_count": null,
   "metadata": {},
   "outputs": [],
   "source": [
    "# Run simulations\n",
    "for i, model in enumerate(models):\n",
    "    model.run(steps=steps, save_interval=50)"
   ]
  },
  {
   "cell_type": "code",
   "execution_count": null,
   "metadata": {},
   "outputs": [],
   "source": [
    "# Create a 2x2 plot of the final U field from the stored simulation snapshots\n",
    "fig, axs = plt.subplots(2, 2, figsize=(10, 10), constrained_layout=True)\n",
    "\n",
    "for i, model in enumerate(models):\n",
    "    # Get the final snapshot stored in the simulation attribute (u, v)\n",
    "    u_final, _ = model.simulation[-1]\n",
    "    ax = axs[i // 2, i % 2]\n",
    "    im = ax.imshow(u_final, cmap=\"viridis\", vmin=0, vmax=1)\n",
    "    \n",
    "    # Extract f and k values from parameter_sets for the title\n",
    "    f_val = parameter_sets[i][0]\n",
    "    k_val = parameter_sets[i][1]\n",
    "    ax.set_title(f\"F={f_val:.4f}, k={k_val:.4f}\", fontsize=18)\n",
    "    ax.axis(\"off\")\n",
    "\n",
    "# Add a single colorbar for the entire figure\n",
    "cbar = fig.colorbar(im, ax=axs, orientation='vertical', fraction=0.046, pad=0.04)\n",
    "cbar.ax.tick_params(labelsize=18)\n",
    "\n",
    "plt.savefig(\"results/gray_scott/gray_scott_2x2_final_states.pgf\")\n",
    "plt.show()"
   ]
  },
  {
   "cell_type": "code",
   "execution_count": null,
   "metadata": {},
   "outputs": [],
   "source": [
    "# Create and save GIF animations for each simulation\n",
    "for i, model in enumerate(models):\n",
    "    ani = model.create_animation(interval=50)\n",
    "    \n",
    "    # Use the complete_params list which contains descriptions\n",
    "    description = parameter_sets[i]\n",
    "    filename = f\"results/gray_scott/gif_{description}.gif\"\n",
    "    \n",
    "    print(f\"Saving animation as {filename} ...\")\n",
    "    ani.save(filename, writer=PillowWriter(fps=20))"
   ]
  },
  {
   "cell_type": "markdown",
   "metadata": {},
   "source": [
    "# References"
   ]
  },
  {
   "cell_type": "markdown",
   "metadata": {},
   "source": [
    "Har-Shemesh et al., 2015\n",
    "\"Information geometric analysis of phase transitions in complex patterns: the case of the Gray-Scott reaction-diffusion model\",\n",
    "J. Stat. Mech. Theory Exp., 2016(04), 043301.\n",
    "DOI: 10.1088/1742-5468/2016/04/043301"
   ]
  }
 ],
 "metadata": {
  "kernelspec": {
   "display_name": "Python 3",
   "language": "python",
   "name": "python3"
  },
  "language_info": {
   "codemirror_mode": {
    "name": "ipython",
    "version": 3
   },
   "file_extension": ".py",
   "mimetype": "text/x-python",
   "name": "python",
   "nbconvert_exporter": "python",
   "pygments_lexer": "ipython3",
   "version": "3.9.6"
  }
 },
 "nbformat": 4,
 "nbformat_minor": 2
}
