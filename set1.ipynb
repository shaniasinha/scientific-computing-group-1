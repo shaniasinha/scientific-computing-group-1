{
 "cells": [
  {
   "cell_type": "markdown",
   "metadata": {},
   "source": [
    "# Assignment Set 1\n",
    "\n",
    "### import libraries"
   ]
  },
  {
   "cell_type": "code",
   "execution_count": null,
   "metadata": {},
   "outputs": [],
   "source": [
    "import numpy as np\n",
    "import matplotlib.pyplot as plt\n",
    "import matplotlib.animation as animation\n",
    "\n",
    "%matplotlib notebook"
   ]
  },
  {
   "cell_type": "markdown",
   "metadata": {},
   "source": [
    "## problem 1.1: Vibrating String"
   ]
  },
  {
   "cell_type": "code",
   "execution_count": null,
   "metadata": {},
   "outputs": [],
   "source": [
    "from src.set_1.vibrating_string import VibratingString"
   ]
  },
  {
   "cell_type": "markdown",
   "metadata": {},
   "source": [
    "for sin(5pix)"
   ]
  },
  {
   "cell_type": "code",
   "execution_count": null,
   "metadata": {},
   "outputs": [],
   "source": [
    "def psi_sin_2pi(x):\n",
    "    return np.sin(2 * np.pi * x)\n",
    "\n",
    "string = VibratingString(psi_sin_2pi, N=100, simulation_time=1, fig_name=\"sin_2pi\")\n",
    "string.run_time_stepping()\n",
    "string.plot_static_simulation()\n",
    "string.plot_dynamic_simulation()"
   ]
  },
  {
   "cell_type": "markdown",
   "metadata": {},
   "source": [
    "for sin(5pix)"
   ]
  },
  {
   "cell_type": "code",
   "execution_count": null,
   "metadata": {},
   "outputs": [],
   "source": [
    "def psi_sin_5pi(x):\n",
    "    return np.sin(5 * np.pi * x)\n",
    "\n",
    "string = VibratingString(psi_sin_5pi, N=100, simulation_time=1, fig_name=\"sin_5pi\")\n",
    "string.run_time_stepping()\n",
    "string.plot_static_simulation()\n",
    "string.plot_dynamic_simulation()"
   ]
  },
  {
   "cell_type": "markdown",
   "metadata": {},
   "source": [
    "for sin(5pix) localized between x = 1/5 and x = 2/5"
   ]
  },
  {
   "cell_type": "code",
   "execution_count": null,
   "metadata": {},
   "outputs": [],
   "source": [
    "def psi_localized(x):\n",
    "    return np.where((x > 1/5) & (x < 2/5), np.sin(5 * np.pi * x), 0)\n",
    "\n",
    "string = VibratingString(psi_localized, N=100, simulation_time=1, fig_name=\"localized\")\n",
    "string.run_time_stepping()\n",
    "string.plot_static_simulation()\n",
    "string.plot_dynamic_simulation()"
   ]
  },
  {
   "cell_type": "markdown",
   "metadata": {},
   "source": [
    "## Problem 1.2: The Time Dependent Diffusion Equation "
   ]
  },
  {
   "cell_type": "code",
   "execution_count": null,
   "metadata": {},
   "outputs": [],
   "source": []
  }
 ],
 "metadata": {
  "kernelspec": {
   "display_name": "Python 3",
   "language": "python",
   "name": "python3"
  },
  "language_info": {
   "codemirror_mode": {
    "name": "ipython",
    "version": 3
   },
   "file_extension": ".py",
   "mimetype": "text/x-python",
   "name": "python",
   "nbconvert_exporter": "python",
   "pygments_lexer": "ipython3",
   "version": "3.12.6"
  }
 },
 "nbformat": 4,
 "nbformat_minor": 2
}
