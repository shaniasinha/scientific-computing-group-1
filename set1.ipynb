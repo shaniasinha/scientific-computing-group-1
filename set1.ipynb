{
 "cells": [
  {
   "cell_type": "markdown",
   "metadata": {},
   "source": [
    "# Assignment Set 1\n",
    "\n",
    "*Authors*: Myriam Belkhatir, Salomé Poulain, Shania Sinha"
   ]
  },
  {
   "cell_type": "markdown",
   "metadata": {},
   "source": [
    "## Import Libraries"
   ]
  },
  {
   "cell_type": "code",
   "execution_count": 263,
   "metadata": {},
   "outputs": [],
   "source": [
    "import numpy as np\n",
    "import matplotlib.pyplot as plt\n",
    "from importlib import reload\n",
    "\n",
    "%matplotlib inline"
   ]
  },
  {
   "cell_type": "markdown",
   "metadata": {},
   "source": [
    "## B: Vibrating String (Time Stepping Implementation)"
   ]
  },
  {
   "cell_type": "code",
   "execution_count": 2,
   "metadata": {},
   "outputs": [],
   "source": [
    "import src.set_1.vibrating_string\n",
    "reload(src.set_1.vibrating_string)\n",
    "from src.set_1.vibrating_string import VibratingString"
   ]
  },
  {
   "cell_type": "markdown",
   "metadata": {},
   "source": [
    "### i. Wave Equation $\\Psi(x,t=0) = \\sin(2\\pi x)$"
   ]
  },
  {
   "cell_type": "code",
   "execution_count": null,
   "metadata": {},
   "outputs": [],
   "source": [
    "def psi_sin_2pi(x):\n",
    "    return np.sin(2 * np.pi * x)\n",
    "\n",
    "string1 = VibratingString(psi_sin_2pi, N=100, simulation_time=1, fig_name=\"sin_2pi\")\n",
    "string1.run_time_stepping()\n",
    "string1.plot_static_simulation()"
   ]
  },
  {
   "cell_type": "markdown",
   "metadata": {},
   "source": [
    "### ii. Wave Equation $\\Psi(x,t=0) = \\sin(5\\pi x)$"
   ]
  },
  {
   "cell_type": "code",
   "execution_count": null,
   "metadata": {},
   "outputs": [],
   "source": [
    "def psi_sin_5pi(x):\n",
    "    return np.sin(5 * np.pi * x)\n",
    "\n",
    "string2 = VibratingString(psi_sin_5pi, N=100, simulation_time=1, fig_name=\"sin_5pi\")\n",
    "string2.run_time_stepping()\n",
    "string2.plot_static_simulation()"
   ]
  },
  {
   "cell_type": "markdown",
   "metadata": {},
   "source": [
    "### iii. Wave Equation $\\Psi(x,t=0) = \\sin(5\\pi x)$ (Localized) \n",
    "\n",
    "The wave equation is localized between x = 1/5 and x = 2/5, else it is 0."
   ]
  },
  {
   "cell_type": "code",
   "execution_count": null,
   "metadata": {},
   "outputs": [],
   "source": [
    "def psi_localized(x):\n",
    "    return np.where((x > 1/5) & (x < 2/5), np.sin(5 * np.pi * x), 0)\n",
    "\n",
    "string3 = VibratingString(psi_localized, N=100, simulation_time=1, fig_name=\"localized\")\n",
    "string3.run_time_stepping()\n",
    "string3.plot_static_simulation()"
   ]
  },
  {
   "cell_type": "markdown",
   "metadata": {},
   "source": [
    "### Create specific 2x2 graph for report"
   ]
  },
  {
   "cell_type": "code",
   "execution_count": null,
   "metadata": {},
   "outputs": [],
   "source": [
    "# Create strings and run simulations\n",
    "strings = [\n",
    "    (\"sin(2πx)\", string1),\n",
    "    (\"sin(5πx)\", string2),\n",
    "    (\"sin(5πx) where (1/5 < x < 2/5)\", string3)\n",
    "]\n",
    "\n",
    "for _, string in strings:\n",
    "    string.run_time_stepping()\n",
    "\n",
    "# Plot 2x2 subplots\n",
    "fig, axes = plt.subplots(2, 2, figsize=(12, 12), sharey=True)\n",
    "colormap = plt.cm.plasma\n",
    "num_steps = 10\n",
    "\n",
    "for idx, (title, string) in enumerate(strings):\n",
    "    ax = axes[idx // 2, idx % 2]\n",
    "    step_size = int(len(string.u) / num_steps)\n",
    "    norm = plt.Normalize(vmin=0, vmax=num_steps)\n",
    "\n",
    "    for i, t in enumerate(range(0, len(string.u), step_size)):\n",
    "        color = colormap(norm(i))\n",
    "        line_width = 10 * (1 - i / num_steps) + 2\n",
    "        ax.plot(string.x, string.u[t, :], color=color, alpha=1, linewidth=line_width)\n",
    "\n",
    "    color = colormap(norm(num_steps))\n",
    "    ax.plot(string.x, string.u[-1, :], color=color, alpha=1, linewidth=3)\n",
    "    ax.set_title(title, fontsize=18, fontweight='bold')\n",
    "    ax.set_xlabel(\"Position\", fontsize=16)\n",
    "    ax.set_ylabel(\"Displacement\", fontsize=16)\n",
    "    ax.tick_params(axis='both', which='major', labelsize=14)\n",
    "\n",
    "# Plot legend in the fourth subplot\n",
    "legend_ax = axes[1, 1]\n",
    "legend_ax.axis('off')\n",
    "for i in range(num_steps + 1):\n",
    "    legend_ax.plot([], [], color=colormap(norm(i)), label=f\"t = {i / num_steps:.1f}s\", linewidth=(7 * (1 - i / num_steps) + 3))\n",
    "\n",
    "legend_ax.legend(loc='center', fontsize=18)\n",
    "\n",
    "plt.tight_layout()\n",
    "plt.savefig(\"results/set_1/wave/2x2_waves.png\")\n",
    "plt.show()"
   ]
  },
  {
   "cell_type": "markdown",
   "metadata": {},
   "source": [
    "## C: Animated Plots of the Vibrating String"
   ]
  },
  {
   "cell_type": "code",
   "execution_count": null,
   "metadata": {},
   "outputs": [],
   "source": [
    "# Wave equation i\n",
    "string1.plot_dynamic_simulation()"
   ]
  },
  {
   "cell_type": "code",
   "execution_count": null,
   "metadata": {},
   "outputs": [],
   "source": [
    "# Wave equation ii\n",
    "string2.plot_dynamic_simulation()"
   ]
  },
  {
   "cell_type": "code",
   "execution_count": null,
   "metadata": {},
   "outputs": [],
   "source": [
    "# Wave equation iii\n",
    "string3.plot_dynamic_simulation()"
   ]
  },
  {
   "cell_type": "markdown",
   "metadata": {},
   "source": [
    "## E: The Time Dependent Diffusion Equation (Compare with Analytical Solution)"
   ]
  },
  {
   "cell_type": "code",
   "execution_count": 1,
   "metadata": {},
   "outputs": [],
   "source": [
    "import src.set_1.time_dependent_diffusion\n",
    "reload(src.set_1.time_dependent_diffusion)\n",
    "from src.set_1.time_dependent_diffusion import TimeDependentDiffusion"
   ]
  },
  {
   "cell_type": "code",
   "execution_count": 2,
   "metadata": {},
   "outputs": [],
   "source": [
    "simulation = TimeDependentDiffusion(N=50, simulation_time=1, fig_name=\"diffusion_simulation\") \n",
    "simulation.run_time_stepping()"
   ]
  },
  {
   "cell_type": "code",
   "execution_count": null,
   "metadata": {},
   "outputs": [],
   "source": [
    "simulation.check_analytical_solution()"
   ]
  },
  {
   "cell_type": "markdown",
   "metadata": {},
   "source": [
    "## F: Two-dimensional Domain Results at Different Times"
   ]
  },
  {
   "cell_type": "code",
   "execution_count": null,
   "metadata": {},
   "outputs": [],
   "source": [
    "simulation.create_subplot_log_time()"
   ]
  },
  {
   "cell_type": "markdown",
   "metadata": {},
   "source": [
    "## G: Animated Plot of the Time Dependent Diffusion Equation"
   ]
  },
  {
   "cell_type": "code",
   "execution_count": null,
   "metadata": {},
   "outputs": [],
   "source": [
    "simulation.create_animation()"
   ]
  },
  {
   "cell_type": "markdown",
   "metadata": {},
   "source": [
    "## H: Jacobi Iteration, Gauss-Seidel and Successive Over-Relaxation\n",
    "\n",
    "The following code is a simple implementation of the Jacobi Iteration, Gauss-Seidel and Successive Over-Relaxation (SOR) methods for solving the 2D Laplace equation. It also compares the analytical solution (as given in Equation 5 in the assignment document) with the numerical solution obtained using the three methods."
   ]
  },
  {
   "cell_type": "code",
   "execution_count": 264,
   "metadata": {},
   "outputs": [],
   "source": [
    "# Import modules for each numerical method\n",
    "import src.set_1.jacobi_iteration_optimized\n",
    "reload(src.set_1.jacobi_iteration_optimized)\n",
    "from src.set_1.jacobi_iteration_optimized import JacobiIteration\n",
    "\n",
    "import src.set_1.gauss_seidel_iteration_optimized\n",
    "reload(src.set_1.gauss_seidel_iteration_optimized)\n",
    "from src.set_1.gauss_seidel_iteration_optimized import GaussSeidelIteration\n",
    "\n",
    "import src.set_1.successive_over_relaxation_optimized\n",
    "reload(src.set_1.successive_over_relaxation_optimized)\n",
    "from src.set_1.successive_over_relaxation_optimized import SORIteration"
   ]
  },
  {
   "cell_type": "code",
   "execution_count": null,
   "metadata": {},
   "outputs": [],
   "source": [
    "solver_ji = JacobiIteration(N=50)\n",
    "iterations_taken_ji, concentration_ji, diffs_ji = solver_ji.solve()\n",
    "# solver_ji.plot_solution() # Uncomment to plot the solution"
   ]
  },
  {
   "cell_type": "code",
   "execution_count": null,
   "metadata": {},
   "outputs": [],
   "source": [
    "iterations_taken_ji[-1]"
   ]
  },
  {
   "cell_type": "code",
   "execution_count": null,
   "metadata": {},
   "outputs": [],
   "source": [
    "solver_gs = GaussSeidelIteration(N=50)\n",
    "iterations_taken_gs, concentration_gs, diffs_gs = solver_gs.solve()\n",
    "# solver_gs.plot_solution() # Uncomment to plot the solution"
   ]
  },
  {
   "cell_type": "code",
   "execution_count": null,
   "metadata": {},
   "outputs": [],
   "source": [
    "iterations_taken_gs[-1]"
   ]
  },
  {
   "cell_type": "code",
   "execution_count": 310,
   "metadata": {},
   "outputs": [],
   "source": [
    "solver_sor = SORIteration(N=50)\n",
    "iterations_taken_sor, concentration_sor, diffs_sor = solver_sor.solve(omega=1.9196969696969697)\n",
    "# solver_sor.plot_solution() # Uncomment to plot the solution"
   ]
  },
  {
   "cell_type": "code",
   "execution_count": null,
   "metadata": {},
   "outputs": [],
   "source": [
    "iterations_taken_sor[-1]"
   ]
  },
  {
   "cell_type": "markdown",
   "metadata": {},
   "source": [
    "#### Comparing the numerical solutions with the analytical solution which is given by $c(y, t) = y$"
   ]
  },
  {
   "cell_type": "code",
   "execution_count": 9,
   "metadata": {},
   "outputs": [],
   "source": [
    "def analytical_solution(N):\n",
    "    \"\"\"\n",
    "    Compute the analytical solution for the diffusion equation.\n",
    "    \"\"\"\n",
    "    y = np.linspace(0, 1, N)\n",
    "    return y\n",
    "\n",
    "def compare_analytical_solution(N, c_sor, c_gs, c_ji, separate=False):\n",
    "    \"\"\"\n",
    "    Compare the analytical solution with the numerical solution\n",
    "    \"\"\"\n",
    "    # Get the numerical solution at the center of the domain\n",
    "    analytical = analytical_solution(N)\n",
    "    numerical_sor = c_sor[:, N // 2]\n",
    "    numerical_gs = c_gs[:, N // 2]\n",
    "    numerical_ji = c_ji[:, N // 2]\n",
    "    \n",
    "    if separate:\n",
    "        plt.figsize=(8, 8)\n",
    "        plt.plot(analytical, linestyle=\"--\", label=\"Analytical\", linewidth=2.5)\n",
    "        plt.plot(numerical_sor, linestyle=\"-\", label=\"SOR\", marker=\"o\", alpha=0.6, markersize=5)\n",
    "        plt.plot(numerical_gs, linestyle=\"-\", label=\"Gauss-Seidel\", marker=\"^\", alpha=0.6, markersize=4)\n",
    "        plt.plot(numerical_ji, linestyle=\"-\", label=\"Jacobi\", marker=\"s\", alpha=0.6, markersize=3)\n",
    "        plt.title(\"Analytical vs. Numerical Solutions\", fontsize=18, fontweight=\"bold\")\n",
    "        plt.xlabel(\"x\", fontsize=16)\n",
    "        plt.ylabel(\"Concentration (c)\", fontsize=16)\n",
    "        plt.xticks(fontsize=14)\n",
    "        plt.yticks(fontsize=14)\n",
    "        plt.legend()\n",
    "        plt.grid()\n",
    "        plt.savefig(\"results/set_1/numerical_methods/all_analytical_vs_numerical.png\")\n",
    "        plt.show()\n",
    "    else:\n",
    "        # Create a 2x2 subplot\n",
    "        fig, axes = plt.subplots(2, 2, figsize=(12, 12), sharey=True)\n",
    "        fig.delaxes(axes[1][1])\n",
    "        axes = axes.flatten()\n",
    "        for idx, (ax, c, title) in enumerate(zip(axes, [numerical_ji, numerical_gs, numerical_sor], [\"Jacobi\", \"Gauss-Seidel\", \"SOR\"])):\n",
    "            ax.plot(analytical, linestyle=\"--\", label=\"Analytical\", linewidth=2.5)\n",
    "            if title == \"SOR\":\n",
    "                ax.plot(c, linestyle=\"-\", label=title, marker=\"o\", alpha=0.5, markersize=5)\n",
    "            elif title == \"Gauss-Seidel\":\n",
    "                ax.plot(c, linestyle=\"-\", label=title, marker=\"^\", alpha=0.5, markersize=5, color=\"green\")\n",
    "            else:\n",
    "                ax.plot(c, linestyle=\"-\", label=title, marker=\"s\", alpha=0.5, markersize=5, color=\"red\")\n",
    "            ax.set_title(title, fontsize=16, fontweight=\"bold\")\n",
    "            ax.set_xlabel(\"x\", fontsize=14)\n",
    "            ax.set_ylabel(\"Concentration (c)\", fontsize=14)\n",
    "            ax.tick_params(axis='both', which='major', labelsize=12)\n",
    "            ax.legend()\n",
    "            ax.grid()\n",
    "        plt.tight_layout()\n",
    "        plt.savefig(\"results/set_1/numerical_methods/2x2_analytical_vs_numerical.png\")\n",
    "        plt.show()"
   ]
  },
  {
   "cell_type": "code",
   "execution_count": null,
   "metadata": {},
   "outputs": [],
   "source": [
    "compare_analytical_solution(50, concentration_sor, concentration_gs, concentration_ji, separate=True)"
   ]
  },
  {
   "cell_type": "code",
   "execution_count": null,
   "metadata": {},
   "outputs": [],
   "source": [
    "# Plotted separately for better visualization\n",
    "compare_analytical_solution(50, concentration_sor, concentration_gs, concentration_ji, separate=False)"
   ]
  },
  {
   "cell_type": "markdown",
   "metadata": {},
   "source": [
    "## I: Convergence Measure vs Number of Iterations\n",
    "\n",
    "The following code plots the convergence measure against the number of iterations for each of the three solving methods. The convergence measure is defined as:\n",
    "\n",
    "$$ \\delta \\equiv \\max_{i,j} \\left| c_{i,j}^{k+1} - c_{i,j}^{k} \\right| < \\epsilon $$\n",
    "\n",
    "where $\\epsilon$ is a small number (in this case, $10^{-5}$)."
   ]
  },
  {
   "cell_type": "code",
   "execution_count": 29,
   "metadata": {},
   "outputs": [],
   "source": [
    "# Plot the number of iterations taken for each method on the x-axis and the diffs on the y-axis\n",
    "def plot_iterations_vs_diffs(iterations, diffs, labels, colors):\n",
    "    \"\"\"\n",
    "    Plot the number of iterations taken for each method on the x-axis and the diffs on the y-axis\n",
    "    \"\"\"\n",
    "    plt.figure(figsize=(12, 8))\n",
    "    for iteration, diff, label in zip(iterations, diffs, labels):\n",
    "        # Create a log-lin plot\n",
    "        if label == \"SOR (omega=1)\":\n",
    "            plt.plot(iteration, diff, label=label, linestyle=\"--\", color=colors.pop())\n",
    "        else:\n",
    "            plt.plot(iteration, diff, label=label, color=colors.pop())\n",
    "    plt.yscale('log')\n",
    "    plt.title(r\"Iterations vs. $\\delta$\", fontsize=18, fontweight=\"bold\")\n",
    "    plt.xlabel(\"Iterations\", fontsize=16)\n",
    "    plt.ylabel(r\"$\\delta$\", fontsize=16)\n",
    "    plt.xticks(fontsize=14)\n",
    "    plt.yticks(fontsize=14)\n",
    "    plt.legend(fontsize=16)\n",
    "    plt.grid()\n",
    "    plt.savefig(\"results/set_1/numerical_methods/iterations_vs_diffs.png\")\n",
    "    plt.show()"
   ]
  },
  {
   "cell_type": "code",
   "execution_count": null,
   "metadata": {},
   "outputs": [],
   "source": [
    "# Run SOR for other omega values\n",
    "omegas = [0.8, 1, 1.6, 1.92]\n",
    "iterations_sor_all_omegas = []\n",
    "diffs_sor_all_omegas = []\n",
    "labels_sor = [f\"SOR (omega={omega})\" for omega in omegas]\n",
    "\n",
    "for omega in omegas:\n",
    "    solver_sor = SORIteration(N=50)\n",
    "    iterations_taken_sor, concentration_sor, diffs_sor = solver_sor.solve(omega=omega)\n",
    "    iterations_sor_all_omegas.append(iterations_taken_sor)\n",
    "    diffs_sor_all_omegas.append(diffs_sor)"
   ]
  },
  {
   "cell_type": "code",
   "execution_count": null,
   "metadata": {},
   "outputs": [],
   "source": [
    "iterations_all_methods = [iterations_taken_ji, iterations_taken_gs]     # Start with the Jacobi and Gauss-Seidel iterations\n",
    "iterations_all_methods.extend(iterations_sor_all_omegas)                # Extend the list of iterations with the SOR iterations\n",
    "\n",
    "diffs_all_methods = [diffs_ji, diffs_gs]            # Start with the Jacobi and Gauss-Seidel diffs\n",
    "diffs_all_methods.extend(diffs_sor_all_omegas)      # Extend the list of diffs with the SOR diffs\n",
    "\n",
    "labels = [\"Jacobi\", \"Gauss-Seidel\"]                 # Start with the Jacobi and Gauss-Seidel labels\n",
    "labels.extend(labels_sor)                           # Extend the list of labels with the SOR labels\n",
    "\n",
    "# List of colors for the plot\n",
    "colors = [\"#800000\", \"#ed7014\", \"#023020\", \"#097969\", \"#088F8F\", \"#5F9EA0\"]\n",
    "\n",
    "# Plot\n",
    "plot_iterations_vs_diffs(iterations_all_methods, diffs_all_methods, labels, colors[::-1])"
   ]
  },
  {
   "cell_type": "markdown",
   "metadata": {},
   "source": [
    "## J: Finding the Optimal $\\omega$ for SOR\n",
    "\n",
    "The following code finds the optimal value of $\\omega$ for the SOR method and finds the relationship between grid size (N) and $\\omega$."
   ]
  },
  {
   "cell_type": "code",
   "execution_count": null,
   "metadata": {},
   "outputs": [],
   "source": [
    "# Perform a grid search to find minimum omega for SOR given N = 50\n",
    "omega_values = np.linspace(1.7, 1.99, 100)\n",
    "iterations_taken_sor = []\n",
    "N_values = [10, 20, 30, 40, 50, 60, 70, 80, 90, 100]\n",
    "min_omegas = []\n",
    "for N in N_values:\n",
    "    for omega in omega_values:\n",
    "        solver_sor = SORIteration(N=N)\n",
    "        iter_sor, c_sor, diffs = solver_sor.solve(omega=omega)\n",
    "        iterations_taken_sor.append(iter_sor[-1])\n",
    "    min_omega = omega_values[np.argmin(iterations_taken_sor)]\n",
    "    print(f\"Minimum Omega for N = {N}: {min_omega} with {np.min(iterations_taken_sor) + 1} iterations\")\n",
    "    min_omegas.append(min_omega)\n",
    "    iterations_taken_sor = [] "
   ]
  },
  {
   "cell_type": "code",
   "execution_count": null,
   "metadata": {},
   "outputs": [],
   "source": [
    "print(min_omegas)\n",
    "print(N_values)"
   ]
  },
  {
   "cell_type": "code",
   "execution_count": 300,
   "metadata": {},
   "outputs": [],
   "source": [
    "# Write a function to plot the minimum omega values for different N values\n",
    "def plot_min_omegas(N_values, min_omegas):\n",
    "    \"\"\"\n",
    "    Plot the minimum omega values for different N values\n",
    "    \"\"\"\n",
    "    plt.figure(figsize=(12, 8))\n",
    "    plt.plot(N_values, min_omegas, marker=\"o\")\n",
    "    plt.title(\"Optimal Omega Values for Different N Values\", fontsize=18, fontweight=\"bold\", color=\"#023020\")\n",
    "    plt.xlabel(\"N\", fontsize=16)\n",
    "    plt.ylabel(\"Omega\", fontsize=16)\n",
    "    plt.xticks(fontsize=14)\n",
    "    plt.yticks(fontsize=14)\n",
    "    plt.grid()\n",
    "    plt.savefig(\"results/set_1/numerical_methods/min_omegas_vs_N.png\", bbox_inches=\"tight\")\n",
    "    plt.show()"
   ]
  },
  {
   "cell_type": "code",
   "execution_count": null,
   "metadata": {},
   "outputs": [],
   "source": [
    "# Plot\n",
    "plot_min_omegas(N_values, min_omegas)"
   ]
  },
  {
   "cell_type": "markdown",
   "metadata": {},
   "source": [
    "## K: Implementing Sinks\n",
    "\n",
    "The following code implements sinks in the domain (areas where concentration function is 0). It also investigates the effect of presence of one or more of these sinks on the convergence of the three numerical methods, including it's effect on $\\omega$ in the SOR method."
   ]
  },
  {
   "cell_type": "markdown",
   "metadata": {},
   "source": [
    "### Jacobi Iteration"
   ]
  },
  {
   "cell_type": "code",
   "execution_count": 268,
   "metadata": {},
   "outputs": [],
   "source": [
    "import src.set_1.jacobi_with_sinks\n",
    "reload(src.set_1.jacobi_with_sinks)\n",
    "from src.set_1.jacobi_with_sinks import JacobiIterationSinks"
   ]
  },
  {
   "cell_type": "code",
   "execution_count": 115,
   "metadata": {},
   "outputs": [],
   "source": [
    "# Possible activated sinks\n",
    "\n",
    "# rectangle_small:           Small rectangle\n",
    "# rectangle_medium:          Medium rectangle\n",
    "# triangle_right:            Right-angled triangle\n",
    "# equilateral_upside_down:   Equilateral triangle (grows downward)\n",
    "# equilateral:               Equilateral triangle (grows upward)\n",
    "# circle_center:             Circular sink\n",
    "# circle_through_boundary:   Circular sink (going through the periodic x boundary)"
   ]
  },
  {
   "cell_type": "code",
   "execution_count": null,
   "metadata": {},
   "outputs": [],
   "source": [
    "activated_sinks=[\"circle_center\"]\n",
    "\n",
    "solver_ji_sinks = JacobiIterationSinks(N=50, activated_objects=activated_sinks)\n",
    "iterations_taken_ji_sinks, concentration_ji_sinks, diffs_ji_sinks = solver_ji_sinks.solve()\n",
    "solver_ji_sinks.plot_solution()"
   ]
  },
  {
   "cell_type": "code",
   "execution_count": null,
   "metadata": {},
   "outputs": [],
   "source": [
    "# Plot the number of iterations taken for each method on the y-axis and number of activated sinks on the x-axis\n",
    "activated_sinks_list = [[\"circle_center\"], [\"circle_center\", \"rectangle_small\"], [\"circle_center\", \"rectangle_small\", \"equilateral\"], [\"circle_center\", \"circle_through_boundary\", \"rectangle_small\", \"equilateral\"]]\n",
    "\n",
    "iterations_taken_all_sinks_jacobi = []\n",
    "\n",
    "for activated_sinks in activated_sinks_list:\n",
    "    solver_ji_sinks = JacobiIterationSinks(N=50, activated_objects=activated_sinks)\n",
    "    iterations_taken_ji_sinks, concentration_ji_sinks, diffs_ji_sinks = solver_ji_sinks.solve()\n",
    "    iterations_taken_all_sinks_jacobi.append(len(iterations_taken_ji_sinks))"
   ]
  },
  {
   "cell_type": "code",
   "execution_count": null,
   "metadata": {},
   "outputs": [],
   "source": [
    "# Plot\n",
    "def plot_iterations_vs_sinks_jacobi(iterations_taken_all_sinks, activated_sinks_list, iter_ji_no_sink):\n",
    "    \"\"\"\n",
    "    Plot the number of iterations taken for each method on the y-axis and number of activated sinks on the x-axis\n",
    "    \"\"\"\n",
    "    xlabels = [f\"{len(sinks)} objects\" if len(sinks) > 1 else f\"{len(sinks)} object\" for sinks in activated_sinks_list]\n",
    "\n",
    "    plt.figure(figsize=(12, 8))\n",
    "\n",
    "    plt.plot(iterations_taken_all_sinks, marker=\"o\", linestyle=\"-\", label=\"Jacobi with sinks\")\n",
    "    plt.axhline(y=iter_ji_no_sink, color=\"maroon\", linestyle=\"--\", label=r\"Jacobi without sinks (iter=7528)\")\n",
    "    plt.title(\"Iterations Taken for Jacobi\", fontsize=28, fontweight=\"bold\")\n",
    "    plt.xlabel(\"Number of Objects\", fontsize=16)\n",
    "    plt.ylabel(\"Iterations\", fontsize=16)\n",
    "    plt.xticks(range(len(xlabels)), xlabels, fontsize=14)\n",
    "    plt.yticks(fontsize=14)\n",
    "    plt.legend(fontsize=16)\n",
    "    plt.grid()\n",
    "    plt.savefig(\"results/set_1/numerical_methods/ji_iterations_sinks_vs_nosinks.png\", bbox_inches=\"tight\")\n",
    "    plt.show()\n",
    "\n",
    "plot_iterations_vs_sinks_jacobi(iterations_taken_all_sinks_jacobi, activated_sinks_list, len(iterations_taken_ji))"
   ]
  },
  {
   "cell_type": "markdown",
   "metadata": {},
   "source": [
    "### Gauss-Seidel Iteration"
   ]
  },
  {
   "cell_type": "code",
   "execution_count": 250,
   "metadata": {},
   "outputs": [],
   "source": [
    "import src.set_1.gauss_seidel_with_sinks\n",
    "reload(src.set_1.gauss_seidel_with_sinks)\n",
    "from src.set_1.gauss_seidel_with_sinks import GaussSeidelIterationSinks"
   ]
  },
  {
   "cell_type": "code",
   "execution_count": null,
   "metadata": {},
   "outputs": [],
   "source": [
    "activated_sinks=[\"circle_center\", \"rectangle_small\"]\n",
    "\n",
    "solver_gs_sinks = GaussSeidelIterationSinks(N=50, activated_objects=activated_sinks)\n",
    "iterations_taken_gs_sinks, concentration_gs_sinks, diffs_gs_sinks = solver_gs_sinks.solve()\n",
    "solver_gs_sinks.plot_solution()"
   ]
  },
  {
   "cell_type": "code",
   "execution_count": null,
   "metadata": {},
   "outputs": [],
   "source": [
    "# Plot the number of iterations taken for each method on the y-axis and number of activated sinks on the x-axis\n",
    "activated_sinks_list = [[\"circle_center\"], [\"circle_center\", \"rectangle_small\"], [\"circle_center\", \"rectangle_small\", \"equilateral\"], [\"circle_center\", \"circle_through_boundary\", \"rectangle_small\", \"equilateral\"]]\n",
    "\n",
    "iterations_taken_all_sinks_gs = []\n",
    "\n",
    "for activated_sinks in activated_sinks_list:\n",
    "    solver_gs_sinks = GaussSeidelIterationSinks(N=50, activated_objects=activated_sinks)\n",
    "    iterations_taken_gs_sinks, concentration_gs_sinks, diffs_gs_sinks = solver_gs_sinks.solve()\n",
    "    iterations_taken_all_sinks_gs.append(len(iterations_taken_gs_sinks))"
   ]
  },
  {
   "cell_type": "code",
   "execution_count": null,
   "metadata": {},
   "outputs": [],
   "source": [
    "# Plot\n",
    "def plot_iterations_vs_sinks_gs(iterations_taken_all_sinks, activated_sinks_list, iter_gs_no_sink):\n",
    "    \"\"\"\n",
    "    Plot the number of iterations taken for each method on the y-axis and number of activated sinks on the x-axis\n",
    "    \"\"\"\n",
    "    xlabels = [f\"{len(sinks)} objects\" if len(sinks) > 1 else f\"{len(sinks)} object\" for sinks in activated_sinks_list]\n",
    "\n",
    "    plt.figure(figsize=(12, 8))\n",
    "\n",
    "    plt.plot(iterations_taken_all_sinks, marker=\"o\", linestyle=\"-\", label=\"Gauss-Seidel with sinks\")\n",
    "    plt.axhline(y=iter_gs_no_sink, color=\"maroon\", linestyle=\"--\", label=r\"Gauss-Seidel without sinks (iter=4114)\")\n",
    "    plt.title(\"Iterations Taken for Gauss-Seidel\", fontsize=28, fontweight=\"bold\")\n",
    "    plt.xlabel(\"Number of Objects\", fontsize=16)\n",
    "    plt.ylabel(\"Iterations\", fontsize=16)\n",
    "    plt.xticks(range(len(xlabels)), xlabels, fontsize=14)\n",
    "    plt.yticks(fontsize=14)\n",
    "    plt.legend(fontsize=16)\n",
    "    plt.grid()\n",
    "    plt.savefig(\"results/set_1/numerical_methods/gs_iterations_sinks_vs_nosinks.png\", bbox_inches=\"tight\")\n",
    "    plt.show()\n",
    "\n",
    "plot_iterations_vs_sinks_gs(iterations_taken_all_sinks_gs, activated_sinks_list, len(iterations_taken_gs))"
   ]
  },
  {
   "cell_type": "markdown",
   "metadata": {},
   "source": [
    "### Successive Over-Relaxation (SOR) Iteration"
   ]
  },
  {
   "cell_type": "code",
   "execution_count": 273,
   "metadata": {},
   "outputs": [],
   "source": [
    "import src.set_1.successive_over_relaxation_with_sinks\n",
    "reload(src.set_1.successive_over_relaxation_with_sinks)\n",
    "from src.set_1.successive_over_relaxation_with_sinks import SORIterationSinks"
   ]
  },
  {
   "cell_type": "code",
   "execution_count": null,
   "metadata": {},
   "outputs": [],
   "source": [
    "activated_sinks=[\"circle_center\"]\n",
    "\n",
    "solver_sor_sinks = SORIterationSinks(N=50, activated_objects=activated_sinks)\n",
    "iterations_taken_sor_sinks, concentration_sor_sinks, diffs_sor_sinks = solver_sor_sinks.solve(omega=1.92)\n",
    "solver_sor_sinks.plot_solution()"
   ]
  },
  {
   "cell_type": "code",
   "execution_count": null,
   "metadata": {},
   "outputs": [],
   "source": [
    "# Run a search to find minimum omega for SOR with sinks given N = 50\n",
    "omega_values = np.linspace(1.6, 1.99, 100)\n",
    "iterations_taken_sor_sinks = []\n",
    "min_iter_each_omega = []\n",
    "min_omegas_sinks = []\n",
    "# activated_sinks_list = [[\"circle_center\"], [\"rectangle_small\"], [\"equilateral]\"], [\"circle_center\", \"rectangle_small\"], [\"circle_center\", \"rectangle_small\", \"equilateral\"], [\"circle_center\", \"circle_through_boundary\", \"rectangle_small\", \"equilateral\"]]\n",
    "\n",
    "for activated_sinks in activated_sinks_list:\n",
    "    for omega in omega_values:\n",
    "        solver_sor_sinks = SORIterationSinks(N=50, activated_objects=activated_sinks)\n",
    "        iter_sor_sinks, c_sor_sinks, diffs = solver_sor_sinks.solve(omega=omega)\n",
    "        iterations_taken_sor_sinks.append(iter_sor_sinks[-1])\n",
    "    min_omega = omega_values[np.argmin(iterations_taken_sor_sinks)]\n",
    "    print(f\"Minimum Omega for N = 50 with sinks: {min_omega} with {np.min(iterations_taken_sor_sinks) + 1} iterations\")\n",
    "    min_omegas_sinks.append(min_omega)\n",
    "    min_iter_each_omega.append(np.min(iterations_taken_sor_sinks) + 1)\n",
    "    iterations_taken_sor_sinks = []"
   ]
  },
  {
   "cell_type": "code",
   "execution_count": null,
   "metadata": {},
   "outputs": [],
   "source": [
    "min_omegas_sinks"
   ]
  },
  {
   "cell_type": "code",
   "execution_count": null,
   "metadata": {},
   "outputs": [],
   "source": [
    "min_iter_each_omega"
   ]
  },
  {
   "cell_type": "code",
   "execution_count": 319,
   "metadata": {},
   "outputs": [],
   "source": [
    "# Function to plot the number of iterations taken for each method on the y-axis in the presence of multiple sinks\n",
    "def plot_iterations_sinks_sor(min_iter_each_omega, activated_sinks_list, iter_sor_no_sink):\n",
    "    \"\"\"\n",
    "    Plot the number of iterations taken for each method on the y-axis in the presence of multiple sinks\n",
    "    \"\"\"\n",
    "    xlabels = [f\"{len(sinks)} objects\" if len(sinks) > 1 else f\"{len(sinks)} object\" for sinks in activated_sinks_list]\n",
    "\n",
    "    plt.figure(figsize=(12, 8))\n",
    "\n",
    "    plt.plot(min_iter_each_omega, marker=\"o\", linestyle=\"-\", label=\"SOR with sinks\")\n",
    "    plt.axhline(y=iter_sor_no_sink, color=\"maroon\", linestyle=\"--\", label=r\"SOR without sinks ($\\omega$=1.92, iter=212)\")\n",
    "    plt.title(\"Iterations Taken for SOR\", fontsize=28, fontweight=\"bold\")\n",
    "    plt.xlabel(\"Number of Objects\", fontsize=16)\n",
    "    plt.ylabel(\"Iterations\", fontsize=16)\n",
    "    plt.xticks(range(len(xlabels)), xlabels, fontsize=14)\n",
    "    plt.yticks(fontsize=14)\n",
    "    plt.legend(fontsize=16)\n",
    "    plt.grid()\n",
    "    plt.savefig(\"results/set_1/numerical_methods/sor_iterations_sinks_vs_nosinks.png\", bbox_inches=\"tight\")\n",
    "    plt.show()"
   ]
  },
  {
   "cell_type": "code",
   "execution_count": null,
   "metadata": {},
   "outputs": [],
   "source": [
    "plot_iterations_sinks_sor(min_iter_each_omega, activated_sinks_list, len(iterations_taken_sor))"
   ]
  },
  {
   "cell_type": "code",
   "execution_count": 321,
   "metadata": {},
   "outputs": [],
   "source": [
    "# Function to plot minimum omega values for different sink configurations\n",
    "def plot_min_omegas_sinks(activated_sinks_list, min_omegas_sinks):\n",
    "    \"\"\"\n",
    "    Plot minimum omega values for different sink configurations\n",
    "    \"\"\"\n",
    "    xlabels = [f\"{len(sinks)} objects\" if len(sinks) > 1 else f\"{len(sinks)} object\" for sinks in activated_sinks_list]\n",
    "\n",
    "    plt.figure(figsize=(12, 8))\n",
    "    plt.plot(xlabels, min_omegas_sinks, marker=\"o\")\n",
    "    plt.title(\"Optimal Omega Values\", fontsize=28, fontweight=\"bold\")\n",
    "    plt.xlabel(\"Number of Objects\", fontsize=16)\n",
    "    plt.ylabel(\"Omega\", fontsize=16)\n",
    "    plt.xticks(range(len(xlabels)), xlabels, fontsize=14)\n",
    "    plt.yticks(fontsize=14)\n",
    "    plt.grid()\n",
    "    plt.savefig(\"results/set_1/numerical_methods/sor_min_omegas_sinks.png\", bbox_inches=\"tight\")\n",
    "    plt.show()"
   ]
  },
  {
   "cell_type": "code",
   "execution_count": null,
   "metadata": {},
   "outputs": [],
   "source": [
    "plot_min_omegas_sinks(activated_sinks_list, min_omegas_sinks)"
   ]
  },
  {
   "cell_type": "markdown",
   "metadata": {},
   "source": [
    "### All plots together (for the report)"
   ]
  },
  {
   "cell_type": "code",
   "execution_count": 294,
   "metadata": {},
   "outputs": [],
   "source": [
    "def plot_iterations_vs_sinks(iterations_jacobi, iterations_gauss, iterations_sor, activated_sinks_list, iter_ji_no_sink, iter_gs_no_sink, iter_sor_no_sink):\n",
    "    \"\"\"\n",
    "    Plot the number of iterations taken for Jacobi, Gauss-Seidel, and SOR methods on the y-axis and number of activated sinks on the x-axis.\n",
    "    \"\"\"\n",
    "    xlabels = [f\"{len(sinks)} objects\" if len(sinks) > 1 else f\"{len(sinks)} object\" for sinks in activated_sinks_list]\n",
    "\n",
    "    fig, axes = plt.subplots(2, 2, figsize=(16, 12))\n",
    "    fig.suptitle(\"Number of Iterations Taken for Different Numerical Methods with Sink Configurations\", fontsize=20, fontweight=\"bold\")\n",
    "\n",
    "    # Jacobi plot\n",
    "    axes[0, 0].plot(iterations_jacobi, marker=\"o\", linestyle=\"-\", label=\"Jacobi with sinks\")\n",
    "    axes[0, 0].axhline(y=iter_ji_no_sink, color=\"maroon\", linestyle=\"--\", label=\"Jacobi without sinks (iter=7528)\")\n",
    "    axes[0, 0].set_title(\"Jacobi Method\", fontsize=16, fontweight=\"bold\")\n",
    "    axes[0, 0].set_xlabel(\"Number of Objects\", fontsize=14)\n",
    "    axes[0, 0].set_ylabel(\"Iterations\", fontsize=14)\n",
    "    axes[0, 0].set_xticks(range(len(xlabels)))\n",
    "    axes[0, 0].set_xticklabels(xlabels, fontsize=12)\n",
    "    axes[0, 0].grid()\n",
    "    axes[0, 0].legend(fontsize=14)\n",
    "\n",
    "    # Gauss-Seidel plot\n",
    "    axes[0, 1].plot(iterations_gauss, marker=\"o\", linestyle=\"-\", label=\"Gauss-Seidel with sinks\")\n",
    "    axes[0, 1].axhline(y=iter_gs_no_sink, color=\"maroon\", linestyle=\"--\", label=\"Gauss-Seidel without sinks (iter=4114)\")\n",
    "    axes[0, 1].set_title(\"Gauss-Seidel Method\", fontsize=16, fontweight=\"bold\")\n",
    "    axes[0, 1].set_xlabel(\"Number of Objects\", fontsize=14)\n",
    "    axes[0, 1].set_ylabel(\"Iterations\", fontsize=14)\n",
    "    axes[0, 1].set_xticks(range(len(xlabels)))\n",
    "    axes[0, 1].set_xticklabels(xlabels, fontsize=12)\n",
    "    axes[0, 1].grid()\n",
    "    axes[0, 1].legend(fontsize=14)\n",
    "\n",
    "    # SOR plot\n",
    "    axes[1, 0].plot(iterations_sor, marker=\"o\", linestyle=\"-\", label=\"SOR with sinks\")\n",
    "    axes[1, 0].axhline(y=iter_sor_no_sink, color=\"maroon\", linestyle=\"--\", label=r\"SOR without sinks ($\\omega$=1.92, iter=212)\")\n",
    "    axes[1, 0].set_title(\"Successive Over-Relaxation (SOR) Method\", fontsize=16, fontweight=\"bold\")\n",
    "    axes[1, 0].set_xlabel(\"Number of Objects\", fontsize=14)\n",
    "    axes[1, 0].set_ylabel(\"Iterations\", fontsize=14)\n",
    "    axes[1, 0].set_xticks(range(len(xlabels)))\n",
    "    axes[1, 0].set_xticklabels(xlabels, fontsize=12)\n",
    "    axes[1, 0].grid()\n",
    "    axes[1, 0].legend(fontsize=14)\n",
    "\n",
    "    # Legend in the 4th subplot\n",
    "    # axes[1, 1].legend(loc=\"center\", fontsize=14)\n",
    "    axes[1, 1].axis(\"off\")\n",
    "\n",
    "    plt.tight_layout(rect=[0, 0, 1, 0.96])\n",
    "    plt.savefig(\"results/set_1/numerical_methods/all_iterations_sinks_vs_nosinks.png\")\n",
    "    plt.show()"
   ]
  },
  {
   "cell_type": "code",
   "execution_count": null,
   "metadata": {},
   "outputs": [],
   "source": [
    "# Example function call with necessary data\n",
    "plot_iterations_vs_sinks(iterations_taken_all_sinks_jacobi, iterations_taken_all_sinks_gs, min_iter_each_omega, activated_sinks_list, len(iterations_taken_ji), len(iterations_taken_gs), len(iterations_taken_sor))"
   ]
  },
  {
   "cell_type": "markdown",
   "metadata": {},
   "source": [
    "## Optional: Objects made of Insulating Material in the Domain \n",
    "\n",
    "Values inside the insulation remain unchanged. Also, the boundary of the insulation does not contribute to the update of neighboring points."
   ]
  },
  {
   "cell_type": "code",
   "execution_count": 184,
   "metadata": {},
   "outputs": [],
   "source": [
    "import src.set_1.jacobi_with_insulation\n",
    "reload(src.set_1.jacobi_with_insulation)\n",
    "from src.set_1.jacobi_with_insulation import JacobiIteration"
   ]
  },
  {
   "cell_type": "code",
   "execution_count": null,
   "metadata": {},
   "outputs": [],
   "source": [
    "# Possible activated insulated objects: \"rectangle\", \"circle\"\n",
    "activated_insulated_objects = [\"rectangle\"]\n",
    "\n",
    "solver_ji_insulated = JacobiIteration(N=50, activated_objects=activated_insulated_objects)\n",
    "iterations_taken_ji_insulated, concentration_ji_insulated, diffs_ji_insulated = solver_ji_insulated.solve()\n",
    "solver_ji_insulated.plot_solution()"
   ]
  }
 ],
 "metadata": {
  "kernelspec": {
   "display_name": "scicomp",
   "language": "python",
   "name": "python3"
  },
  "language_info": {
   "codemirror_mode": {
    "name": "ipython",
    "version": 3
   },
   "file_extension": ".py",
   "mimetype": "text/x-python",
   "name": "python",
   "nbconvert_exporter": "python",
   "pygments_lexer": "ipython3",
   "version": "3.12.9"
  }
 },
 "nbformat": 4,
 "nbformat_minor": 2
}
